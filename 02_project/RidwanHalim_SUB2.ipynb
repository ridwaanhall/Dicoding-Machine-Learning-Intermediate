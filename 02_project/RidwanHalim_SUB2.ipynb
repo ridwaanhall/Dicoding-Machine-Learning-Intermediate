{
  "nbformat": 4,
  "nbformat_minor": 0,
  "metadata": {
    "colab": {
      "provenance": [],
      "gpuType": "V28",
      "collapsed_sections": [
        "FsAJmLjs1zrw"
      ],
      "toc_visible": true
    },
    "kernelspec": {
      "name": "python3",
      "display_name": "Python 3"
    },
    "language_info": {
      "name": "python"
    },
    "accelerator": "TPU"
  },
  "cells": [
    {
      "cell_type": "markdown",
      "source": [
        "# Proyek Klasifikasi Gambar: Arabic Handwritten Characters\n",
        "- Ridwan Halim\n",
        "- erbyl14@gmail.com\n",
        "- id dicoding: ridwaanhall"
      ],
      "metadata": {
        "id": "1TLa_zVxqrNa"
      }
    },
    {
      "cell_type": "markdown",
      "source": [
        "## First of All"
      ],
      "metadata": {
        "id": "nyK1ySwxrEe-"
      }
    },
    {
      "cell_type": "markdown",
      "source": [
        "### Install"
      ],
      "metadata": {
        "id": "36TH7u2xq-Qq"
      }
    },
    {
      "cell_type": "markdown",
      "source": [
        "### Import"
      ],
      "metadata": {
        "id": "Pgb2KTk_rAVU"
      }
    },
    {
      "cell_type": "code",
      "execution_count": 2,
      "metadata": {
        "id": "lOrt9CgFqOQT"
      },
      "outputs": [],
      "source": [
        "import os\n",
        "import requests\n",
        "import zipfile\n",
        "from PIL import Image\n",
        "import pandas as pd\n",
        "import numpy as np\n",
        "import tensorflow as tf\n",
        "from sklearn.model_selection import train_test_split\n",
        "import matplotlib.pyplot as plt\n",
        "import tensorflowjs as tfjs\n",
        "import random\n",
        "from tensorflow.keras import layers, models\n",
        "from IPython.display import Image as IPImage\n",
        "from tensorflow.keras.callbacks import Callback"
      ]
    },
    {
      "cell_type": "code",
      "source": [
        "print(tf.__version__)"
      ],
      "metadata": {
        "colab": {
          "base_uri": "https://localhost:8080/"
        },
        "id": "5sZzNkbskPF1",
        "outputId": "c354c0e8-206e-414f-e4f5-d78269a41c4c"
      },
      "execution_count": 3,
      "outputs": [
        {
          "output_type": "stream",
          "name": "stdout",
          "text": [
            "2.16.2\n"
          ]
        }
      ]
    },
    {
      "cell_type": "code",
      "source": [
        "required_packages = [\n",
        "    'os',\n",
        "    'requests',\n",
        "    'zipfile',\n",
        "    'PIL',\n",
        "    'pandas',\n",
        "    'numpy',\n",
        "    'tensorflow',\n",
        "    'scikit-learn',\n",
        "    'matplotlib',\n",
        "    'tensorflowjs',\n",
        "    'random',\n",
        "    'IPython'\n",
        "]\n",
        "\n",
        "with open('requirements.txt', 'w') as f:\n",
        "    for package in required_packages:\n",
        "        try:\n",
        "            version = !pip show {package} | grep Version\n",
        "            version = version[0].split(' ')[1] if version else 'Not Installed'\n",
        "            f.write(f\"{package}=={version}\\n\")\n",
        "        except Exception as e:\n",
        "            f.write(f\"{package}==Version not found\\n\")\n",
        "            print(f\"Could not find version for {package}: {e}\")\n",
        "\n",
        "print(\"requirements.txt created successfully!\")"
      ],
      "metadata": {
        "colab": {
          "base_uri": "https://localhost:8080/"
        },
        "id": "g_eIUNXzx7A3",
        "outputId": "461d13ab-06d1-4247-d66a-e336812ed004"
      },
      "execution_count": 21,
      "outputs": [
        {
          "output_type": "stream",
          "name": "stdout",
          "text": [
            "requirements.txt created successfully!\n"
          ]
        }
      ]
    },
    {
      "cell_type": "markdown",
      "source": [
        "## Dataset Manager"
      ],
      "metadata": {
        "id": "dw_KxgErsC8t"
      }
    },
    {
      "cell_type": "code",
      "source": [
        "arabic_labels = {\n",
        "    1: \"Alef (أ)\",\n",
        "    2: \"Bah (ب)\",\n",
        "    3: \"Teh (ت)\",\n",
        "    4: \"Theh (ث)\",\n",
        "    5: \"Jeem (ج)\",\n",
        "    6: \"Hah (ح)\",\n",
        "    7: \"Khah (خ)\",\n",
        "    8: \"Dal (د)\",\n",
        "    9: \"Thal (ذ)\",\n",
        "    10: \"Reh (ر)\",\n",
        "    11: \"Zay (ز)\",\n",
        "    12: \"Seen (س)\",\n",
        "    13: \"Sheen (ش)\",\n",
        "    14: \"Sad (ص)\",\n",
        "    15: \"Dad (ض)\",\n",
        "    16: \"Tah (ط)\",\n",
        "    17: \"Zah (ظ)\",\n",
        "    18: \"Ain (ع)\",\n",
        "    19: \"Ghain (غ)\",\n",
        "    20: \"Feh (ف)\",\n",
        "    21: \"Qaf (ق)\",\n",
        "    22: \"Kaf (ك)\",\n",
        "    23: \"Lam (ل)\",\n",
        "    24: \"Meem (م)\",\n",
        "    25: \"Noon (ن)\",\n",
        "    26: \"Heh (هـ)\",\n",
        "    27: \"Waw (و)\",\n",
        "    28: \"Yeh (ي)\"\n",
        "}\n",
        "\n",
        "class DatasetManager:\n",
        "    def __init__(self, url, dataset_dir):\n",
        "        self.url = url\n",
        "        self.dataset_path = os.path.basename(url)\n",
        "        self.dataset_dir = dataset_dir\n",
        "\n",
        "    def download_dataset(self):\n",
        "        print(\"Downloading dataset...\")\n",
        "        response = requests.get(self.url)\n",
        "        with open(self.dataset_path, 'wb') as file:\n",
        "            file.write(response.content)\n",
        "        print(\"Download complete.\")\n",
        "\n",
        "    def extract_dataset(self):\n",
        "        print(\"Extracting dataset...\")\n",
        "        with zipfile.ZipFile(self.dataset_path, 'r') as zip_ref:\n",
        "            zip_ref.extractall(self.dataset_dir)\n",
        "        print(\"Extraction complete.\")\n",
        "\n",
        "    def check_image_resolutions(self, image_dir):\n",
        "        print(\"Checking image resolutions...\")\n",
        "        resolution_counts = {}\n",
        "\n",
        "        for image_name in os.listdir(image_dir):\n",
        "            image_path = os.path.join(image_dir, image_name)\n",
        "            with Image.open(image_path) as img:\n",
        "                resolution = img.size  # (width, height)\n",
        "                if resolution in resolution_counts:\n",
        "                    resolution_counts[resolution] += 1\n",
        "                else:\n",
        "                    resolution_counts[resolution] = 1\n",
        "\n",
        "        df = pd.DataFrame(list(resolution_counts.items()), columns=['Resolution', 'Count'])\n",
        "        df['Resolution'] = df['Resolution'].apply(lambda x: f\"{x[0]}x{x[1]}\")\n",
        "        return df\n",
        "\n",
        "    def resize_images(self, image_dir, output_dir, new_size):\n",
        "        if not os.path.exists(output_dir):\n",
        "            os.makedirs(output_dir)\n",
        "\n",
        "        image_files = os.listdir(image_dir)\n",
        "        for image_name in image_files:\n",
        "            image_path = os.path.join(image_dir, image_name)\n",
        "            with Image.open(image_path) as img:\n",
        "                resized_img = img.resize(new_size, Image.LANCZOS)\n",
        "                base_name, ext = os.path.splitext(image_name)\n",
        "                new_image_name = f\"{base_name}{ext}\"\n",
        "                resized_img.save(os.path.join(output_dir, new_image_name))\n",
        "\n",
        "    def organize_images_by_label(self, image_dir):\n",
        "        print(\"Organizing images by label...\")\n",
        "        for image_name in os.listdir(image_dir):\n",
        "            # Extract label from filename\n",
        "            if 'label_' in image_name:\n",
        "                try:\n",
        "                    label_number = int(image_name.split('label_')[1].split('.')[0])\n",
        "                    arabic_label = arabic_labels.get(label_number, 'Unknown')\n",
        "\n",
        "                    if arabic_label == 'Unknown':\n",
        "                        print(f\"Skipping file {image_name} as the label '{label_number}' is not recognized.\")\n",
        "                        continue\n",
        "\n",
        "                    label_dir = os.path.join(image_dir, arabic_label)\n",
        "                    if not os.path.exists(label_dir):\n",
        "                        os.makedirs(label_dir)\n",
        "\n",
        "                    image_path = os.path.join(image_dir, image_name)\n",
        "                    new_image_path = os.path.join(label_dir, image_name)\n",
        "                    os.rename(image_path, new_image_path)\n",
        "                except ValueError:\n",
        "                    print(f\"Skipping file {image_name} due to invalid label format.\")\n",
        "            else:\n",
        "                print(f\"Skipping file {image_name} as it does not have a label.\")\n",
        "        print(\"Images organized by label.\")\n",
        "\n",
        "    def count_and_display_label_folders(self, base_dir):\n",
        "        print(\"Counting and displaying label folders...\")\n",
        "        label_folders = [f for f in os.listdir(base_dir) if os.path.isdir(os.path.join(base_dir, f))]\n",
        "        folder_count = len(label_folders)\n",
        "        print(f\"Total number of label folders: {folder_count}\")\n",
        "        print(\"Label folders:\")\n",
        "        for folder in label_folders:\n",
        "            folder_path = os.path.join(base_dir, folder)\n",
        "            file_count = len([f for f in os.listdir(folder_path) if os.path.isfile(os.path.join(folder_path, f))])\n",
        "            print(f\"- {folder}: {file_count} files\")\n",
        "\n",
        "    def read_random_image_from_each_folder(self, base_dir):\n",
        "        print(f\"Reading random image from each folder in directory: {base_dir}\")\n",
        "        folder_paths = [os.path.join(base_dir, folder) for folder in os.listdir(base_dir) if os.path.isdir(os.path.join(base_dir, folder))]\n",
        "\n",
        "        for folder_path in folder_paths:\n",
        "            image_files = [f for f in os.listdir(folder_path) if os.path.isfile(os.path.join(folder_path, f))]\n",
        "            if not image_files:\n",
        "                print(f\"No image files found in directory: {folder_path}\")\n",
        "                continue\n",
        "\n",
        "            random_image_name = random.choice(image_files)\n",
        "            random_image_path = os.path.join(folder_path, random_image_name)\n",
        "\n",
        "            display(IPImage(filename=random_image_path))  # Display the image in the notebook\n",
        "            print(f\"Displayed image from folder '{os.path.basename(folder_path)}': {random_image_name}\")"
      ],
      "metadata": {
        "id": "dzudlW5AsGaY"
      },
      "execution_count": 4,
      "outputs": []
    },
    {
      "cell_type": "code",
      "source": [
        "url = 'https://github.com/ridwaanhall/datasets/raw/main/arabic_handwritten_chars_image_all_13440_diff.zip'\n",
        "dataset_dir = 'arabic_handwritten_chars_image_all_13440_diff'\n",
        "output_dir = 'arabic_handwritten_chars_image_all_13440_32x32'\n",
        "new_size = (32, 32)\n",
        "\n",
        "dataset_manager = DatasetManager(url, dataset_dir)"
      ],
      "metadata": {
        "id": "EABibKxvsTb-"
      },
      "execution_count": 5,
      "outputs": []
    },
    {
      "cell_type": "markdown",
      "source": [
        "### Download and Extract"
      ],
      "metadata": {
        "id": "437USpGtsaWn"
      }
    },
    {
      "cell_type": "code",
      "source": [
        "dataset_manager.download_dataset()\n",
        "dataset_manager.extract_dataset()"
      ],
      "metadata": {
        "colab": {
          "base_uri": "https://localhost:8080/"
        },
        "id": "3Rjroil9sc_8",
        "outputId": "c0e222a8-8c14-44af-b25d-d6019057ca4b"
      },
      "execution_count": 6,
      "outputs": [
        {
          "output_type": "stream",
          "name": "stdout",
          "text": [
            "Downloading dataset...\n",
            "Download complete.\n",
            "Extracting dataset...\n",
            "Extraction complete.\n"
          ]
        }
      ]
    },
    {
      "cell_type": "markdown",
      "source": [
        "### Check Resolution"
      ],
      "metadata": {
        "id": "ZNjuTcBksnoc"
      }
    },
    {
      "cell_type": "code",
      "source": [
        "df_before_resize = dataset_manager.check_image_resolutions(dataset_dir)\n",
        "print(\"Resolutions before resizing:\")\n",
        "print(df_before_resize)"
      ],
      "metadata": {
        "colab": {
          "base_uri": "https://localhost:8080/"
        },
        "id": "_ukHpaTnsp8K",
        "outputId": "ca5fc83a-7230-4f38-df33-c0136bead2db"
      },
      "execution_count": 7,
      "outputs": [
        {
          "output_type": "stream",
          "name": "stdout",
          "text": [
            "Checking image resolutions...\n",
            "Resolutions before resizing:\n",
            "    Resolution  Count\n",
            "0      180x180    142\n",
            "1      178x178    147\n",
            "2      188x188    131\n",
            "3      135x135    152\n",
            "4      128x128    138\n",
            "..         ...    ...\n",
            "96     182x182    126\n",
            "97     145x145    132\n",
            "98     174x174    154\n",
            "99     139x139    118\n",
            "100    176x176    128\n",
            "\n",
            "[101 rows x 2 columns]\n"
          ]
        }
      ]
    },
    {
      "cell_type": "markdown",
      "source": [
        "### Resize to 32x32"
      ],
      "metadata": {
        "id": "2Rml-iTvstmG"
      }
    },
    {
      "cell_type": "code",
      "source": [
        "dataset_manager.resize_images(dataset_dir, output_dir, new_size)"
      ],
      "metadata": {
        "id": "2rRJb03gsvcF"
      },
      "execution_count": 8,
      "outputs": []
    },
    {
      "cell_type": "markdown",
      "source": [
        "### Check Resolution after Resize"
      ],
      "metadata": {
        "id": "dktXjqlTtEve"
      }
    },
    {
      "cell_type": "code",
      "source": [
        "df_after_resize = dataset_manager.check_image_resolutions(output_dir)\n",
        "print(\"Resolutions after resizing:\")\n",
        "print(df_after_resize)"
      ],
      "metadata": {
        "colab": {
          "base_uri": "https://localhost:8080/"
        },
        "id": "lq9AewnwtIyo",
        "outputId": "e882775f-9e6a-432e-f7b3-6da1a1ce5443"
      },
      "execution_count": 9,
      "outputs": [
        {
          "output_type": "stream",
          "name": "stdout",
          "text": [
            "Checking image resolutions...\n",
            "Resolutions after resizing:\n",
            "  Resolution  Count\n",
            "0      32x32  13440\n"
          ]
        }
      ]
    },
    {
      "cell_type": "markdown",
      "source": [
        "### Organize Label"
      ],
      "metadata": {
        "id": "2n9W7QbFtMP2"
      }
    },
    {
      "cell_type": "code",
      "source": [
        "dataset_manager.organize_images_by_label(output_dir)"
      ],
      "metadata": {
        "colab": {
          "base_uri": "https://localhost:8080/"
        },
        "id": "t9WqEOz2tOQe",
        "outputId": "fa7af57a-6f41-4cfb-b106-372dd865c76a"
      },
      "execution_count": 10,
      "outputs": [
        {
          "output_type": "stream",
          "name": "stdout",
          "text": [
            "Organizing images by label...\n",
            "Images organized by label.\n"
          ]
        }
      ]
    },
    {
      "cell_type": "markdown",
      "source": [
        "### Count Label Folder and Files"
      ],
      "metadata": {
        "id": "qBhI82uDtO46"
      }
    },
    {
      "cell_type": "code",
      "source": [
        "dataset_manager.count_and_display_label_folders(output_dir)"
      ],
      "metadata": {
        "colab": {
          "base_uri": "https://localhost:8080/"
        },
        "id": "kVn7p20VtajQ",
        "outputId": "a455fd34-e464-44dc-b736-5631093a74c8"
      },
      "execution_count": 11,
      "outputs": [
        {
          "output_type": "stream",
          "name": "stdout",
          "text": [
            "Counting and displaying label folders...\n",
            "Total number of label folders: 28\n",
            "Label folders:\n",
            "- Dad (ض): 480 files\n",
            "- Alef (أ): 480 files\n",
            "- Seen (س): 480 files\n",
            "- Ghain (غ): 480 files\n",
            "- Feh (ف): 480 files\n",
            "- Jeem (ج): 480 files\n",
            "- Sheen (ش): 480 files\n",
            "- Sad (ص): 480 files\n",
            "- Lam (ل): 480 files\n",
            "- Teh (ت): 480 files\n",
            "- Noon (ن): 480 files\n",
            "- Heh (هـ): 480 files\n",
            "- Reh (ر): 480 files\n",
            "- Waw (و): 480 files\n",
            "- Zah (ظ): 480 files\n",
            "- Bah (ب): 480 files\n",
            "- Theh (ث): 480 files\n",
            "- Tah (ط): 480 files\n",
            "- Meem (م): 480 files\n",
            "- Thal (ذ): 480 files\n",
            "- Ain (ع): 480 files\n",
            "- Khah (خ): 480 files\n",
            "- Zay (ز): 480 files\n",
            "- Yeh (ي): 480 files\n",
            "- Qaf (ق): 480 files\n",
            "- Dal (د): 480 files\n",
            "- Hah (ح): 480 files\n",
            "- Kaf (ك): 480 files\n"
          ]
        }
      ]
    },
    {
      "cell_type": "markdown",
      "source": [
        "### Read Image random"
      ],
      "metadata": {
        "id": "BvCpQgHfteFV"
      }
    },
    {
      "cell_type": "code",
      "source": [
        "dataset_manager.read_random_image_from_each_folder(output_dir)"
      ],
      "metadata": {
        "colab": {
          "base_uri": "https://localhost:8080/",
          "height": 1000
        },
        "id": "AZeoJgz-tc4L",
        "outputId": "a7c9ffd2-991c-4f7a-9143-d97cc2bd0337"
      },
      "execution_count": 12,
      "outputs": [
        {
          "output_type": "stream",
          "name": "stdout",
          "text": [
            "Reading random image from each folder in directory: arabic_handwritten_chars_image_all_13440_32x32\n"
          ]
        },
        {
          "output_type": "display_data",
          "data": {
            "image/png": "[encoded data removed]",
            "text/plain": [
              "<IPython.core.display.Image object>"
            ]
          },
          "metadata": {}
        },
        {
          "output_type": "stream",
          "name": "stdout",
          "text": [
            "Displayed image from folder 'Dad (ض)': id_564_label_15.png\n"
          ]
        },
        {
          "output_type": "display_data",
          "data": {
            "image/png": "[encoded data removed]",
            "text/plain": [
              "<IPython.core.display.Image object>"
            ]
          },
          "metadata": {}
        },
        {
          "output_type": "stream",
          "name": "stdout",
          "text": [
            "Displayed image from folder 'Alef (أ)': id_2469_label_1.png\n"
          ]
        },
        {
          "output_type": "display_data",
          "data": {
            "image/png": "[encoded data removed]",
            "text/plain": [
              "<IPython.core.display.Image object>"
            ]
          },
          "metadata": {}
        },
        {
          "output_type": "stream",
          "name": "stdout",
          "text": [
            "Displayed image from folder 'Seen (س)': id_2779_label_12.png\n"
          ]
        },
        {
          "output_type": "display_data",
          "data": {
            "image/png": "[encoded data removed]",
            "text/plain": [
              "<IPython.core.display.Image object>"
            ]
          },
          "metadata": {}
        },
        {
          "output_type": "stream",
          "name": "stdout",
          "text": [
            "Displayed image from folder 'Ghain (غ)': id_8660_label_19.png\n"
          ]
        },
        {
          "output_type": "display_data",
          "data": {
            "image/png": "[encoded data removed]",
            "text/plain": [
              "<IPython.core.display.Image object>"
            ]
          },
          "metadata": {}
        },
        {
          "output_type": "stream",
          "name": "stdout",
          "text": [
            "Displayed image from folder 'Feh (ف)': id_13152_label_20.png\n"
          ]
        },
        {
          "output_type": "display_data",
          "data": {
            "image/png": "[encoded data removed]",
            "text/plain": [
              "<IPython.core.display.Image object>"
            ]
          },
          "metadata": {}
        },
        {
          "output_type": "stream",
          "name": "stdout",
          "text": [
            "Displayed image from folder 'Jeem (ج)': id_11463_label_5.png\n"
          ]
        },
        {
          "output_type": "display_data",
          "data": {
            "image/png": "[encoded data removed]",
            "text/plain": [
              "<IPython.core.display.Image object>"
            ]
          },
          "metadata": {}
        },
        {
          "output_type": "stream",
          "name": "stdout",
          "text": [
            "Displayed image from folder 'Sheen (ش)': id_550_label_13.png\n"
          ]
        },
        {
          "output_type": "display_data",
          "data": {
            "image/png": "[encoded data removed]",
            "text/plain": [
              "<IPython.core.display.Image object>"
            ]
          },
          "metadata": {}
        },
        {
          "output_type": "stream",
          "name": "stdout",
          "text": [
            "Displayed image from folder 'Sad (ص)': id_11982_label_14.png\n"
          ]
        },
        {
          "output_type": "display_data",
          "data": {
            "image/png": "[encoded data removed]",
            "text/plain": [
              "<IPython.core.display.Image object>"
            ]
          },
          "metadata": {}
        },
        {
          "output_type": "stream",
          "name": "stdout",
          "text": [
            "Displayed image from folder 'Lam (ل)': id_856_label_23.png\n"
          ]
        },
        {
          "output_type": "display_data",
          "data": {
            "image/png": "[encoded data removed]",
            "text/plain": [
              "<IPython.core.display.Image object>"
            ]
          },
          "metadata": {}
        },
        {
          "output_type": "stream",
          "name": "stdout",
          "text": [
            "Displayed image from folder 'Teh (ت)': id_3827_label_3.png\n"
          ]
        },
        {
          "output_type": "display_data",
          "data": {
            "image/png": "[encoded data removed]",
            "text/plain": [
              "<IPython.core.display.Image object>"
            ]
          },
          "metadata": {}
        },
        {
          "output_type": "stream",
          "name": "stdout",
          "text": [
            "Displayed image from folder 'Noon (ن)': id_4674_label_25.png\n"
          ]
        },
        {
          "output_type": "display_data",
          "data": {
            "image/png": "[encoded data removed]",
            "text/plain": [
              "<IPython.core.display.Image object>"
            ]
          },
          "metadata": {}
        },
        {
          "output_type": "stream",
          "name": "stdout",
          "text": [
            "Displayed image from folder 'Heh (هـ)': id_8489_label_26.png\n"
          ]
        },
        {
          "output_type": "display_data",
          "data": {
            "image/png": "[encoded data removed]",
            "text/plain": [
              "<IPython.core.display.Image object>"
            ]
          },
          "metadata": {}
        },
        {
          "output_type": "stream",
          "name": "stdout",
          "text": [
            "Displayed image from folder 'Reh (ر)': id_11499_label_10.png\n"
          ]
        },
        {
          "output_type": "display_data",
          "data": {
            "image/png": "[encoded data removed]",
            "text/plain": [
              "<IPython.core.display.Image object>"
            ]
          },
          "metadata": {}
        },
        {
          "output_type": "stream",
          "name": "stdout",
          "text": [
            "Displayed image from folder 'Waw (و)': id_10963_label_27.png\n"
          ]
        },
        {
          "output_type": "display_data",
          "data": {
            "image/png": "[encoded data removed]",
            "text/plain": [
              "<IPython.core.display.Image object>"
            ]
          },
          "metadata": {}
        },
        {
          "output_type": "stream",
          "name": "stdout",
          "text": [
            "Displayed image from folder 'Zah (ظ)': id_355_label_17.png\n"
          ]
        },
        {
          "output_type": "display_data",
          "data": {
            "image/png": "[encoded data removed]",
            "text/plain": [
              "<IPython.core.display.Image object>"
            ]
          },
          "metadata": {}
        },
        {
          "output_type": "stream",
          "name": "stdout",
          "text": [
            "Displayed image from folder 'Bah (ب)': id_2025_label_2.png\n"
          ]
        },
        {
          "output_type": "display_data",
          "data": {
            "image/png": "[encoded data removed]",
            "text/plain": [
              "<IPython.core.display.Image object>"
            ]
          },
          "metadata": {}
        },
        {
          "output_type": "stream",
          "name": "stdout",
          "text": [
            "Displayed image from folder 'Theh (ث)': id_9888_label_4.png\n"
          ]
        },
        {
          "output_type": "display_data",
          "data": {
            "image/png": "[encoded data removed]",
            "text/plain": [
              "<IPython.core.display.Image object>"
            ]
          },
          "metadata": {}
        },
        {
          "output_type": "stream",
          "name": "stdout",
          "text": [
            "Displayed image from folder 'Tah (ط)': id_4384_label_16.png\n"
          ]
        },
        {
          "output_type": "display_data",
          "data": {
            "image/png": "[encoded data removed]",
            "text/plain": [
              "<IPython.core.display.Image object>"
            ]
          },
          "metadata": {}
        },
        {
          "output_type": "stream",
          "name": "stdout",
          "text": [
            "Displayed image from folder 'Meem (م)': id_5344_label_24.png\n"
          ]
        },
        {
          "output_type": "display_data",
          "data": {
            "image/png": "[encoded data removed]",
            "text/plain": [
              "<IPython.core.display.Image object>"
            ]
          },
          "metadata": {}
        },
        {
          "output_type": "stream",
          "name": "stdout",
          "text": [
            "Displayed image from folder 'Thal (ذ)': id_8808_label_9.png\n"
          ]
        },
        {
          "output_type": "display_data",
          "data": {
            "image/png": "[encoded data removed]",
            "text/plain": [
              "<IPython.core.display.Image object>"
            ]
          },
          "metadata": {}
        },
        {
          "output_type": "stream",
          "name": "stdout",
          "text": [
            "Displayed image from folder 'Ain (ع)': id_10889_label_18.png\n"
          ]
        },
        {
          "output_type": "display_data",
          "data": {
            "image/png": "[encoded data removed]",
            "text/plain": [
              "<IPython.core.display.Image object>"
            ]
          },
          "metadata": {}
        },
        {
          "output_type": "stream",
          "name": "stdout",
          "text": [
            "Displayed image from folder 'Khah (خ)': id_727_label_7.png\n"
          ]
        },
        {
          "output_type": "display_data",
          "data": {
            "image/png": "[encoded data removed]",
            "text/plain": [
              "<IPython.core.display.Image object>"
            ]
          },
          "metadata": {}
        },
        {
          "output_type": "stream",
          "name": "stdout",
          "text": [
            "Displayed image from folder 'Zay (ز)': id_9048_label_11.png\n"
          ]
        },
        {
          "output_type": "display_data",
          "data": {
            "image/png": "[encoded data removed]",
            "text/plain": [
              "<IPython.core.display.Image object>"
            ]
          },
          "metadata": {}
        },
        {
          "output_type": "stream",
          "name": "stdout",
          "text": [
            "Displayed image from folder 'Yeh (ي)': id_11199_label_28.png\n"
          ]
        },
        {
          "output_type": "display_data",
          "data": {
            "image/png": "[encoded data removed]",
            "text/plain": [
              "<IPython.core.display.Image object>"
            ]
          },
          "metadata": {}
        },
        {
          "output_type": "stream",
          "name": "stdout",
          "text": [
            "Displayed image from folder 'Qaf (ق)': id_3303_label_21.png\n"
          ]
        },
        {
          "output_type": "display_data",
          "data": {
            "image/png": "[encoded data removed]",
            "text/plain": [
              "<IPython.core.display.Image object>"
            ]
          },
          "metadata": {}
        },
        {
          "output_type": "stream",
          "name": "stdout",
          "text": [
            "Displayed image from folder 'Dal (د)': id_11708_label_8.png\n"
          ]
        },
        {
          "output_type": "display_data",
          "data": {
            "image/png": "[encoded data removed]",
            "text/plain": [
              "<IPython.core.display.Image object>"
            ]
          },
          "metadata": {}
        },
        {
          "output_type": "stream",
          "name": "stdout",
          "text": [
            "Displayed image from folder 'Hah (ح)': id_11696_label_6.png\n"
          ]
        },
        {
          "output_type": "display_data",
          "data": {
            "image/png": "[encoded data removed]",
            "text/plain": [
              "<IPython.core.display.Image object>"
            ]
          },
          "metadata": {}
        },
        {
          "output_type": "stream",
          "name": "stdout",
          "text": [
            "Displayed image from folder 'Kaf (ك)': id_1296_label_22.png\n"
          ]
        }
      ]
    },
    {
      "cell_type": "markdown",
      "source": [
        "## Data Splitter"
      ],
      "metadata": {
        "id": "VqflgsZVzdYD"
      }
    },
    {
      "cell_type": "code",
      "source": [
        "class DataSplitter:\n",
        "    def __init__(self, image_dir, test_size=0.2, image_size=(32, 32), batch_size=32):\n",
        "        self.image_dir = image_dir\n",
        "        self.test_size = test_size\n",
        "        self.image_size = image_size\n",
        "        self.batch_size = batch_size\n",
        "\n",
        "    def preprocess_image(self, image):\n",
        "        image = 1.0 - image\n",
        "        return image\n",
        "\n",
        "    def split_data(self):\n",
        "        dataset = tf.keras.preprocessing.image_dataset_from_directory(\n",
        "            self.image_dir,\n",
        "            image_size=self.image_size,\n",
        "            batch_size=self.batch_size,\n",
        "            shuffle=True\n",
        "        )\n",
        "        dataset = dataset.map(lambda x, y: (self.preprocess_image(x), y))\n",
        "\n",
        "        train_size = int((1 - self.test_size) * len(dataset))\n",
        "        train_dataset = dataset.take(train_size)\n",
        "        test_dataset = dataset.skip(train_size)\n",
        "        return train_dataset, test_dataset\n",
        "\n",
        "data_splitter = DataSplitter(image_dir='/content/arabic_handwritten_chars_image_all_13440_32x32')\n",
        "train_dataset, test_dataset = data_splitter.split_data()"
      ],
      "metadata": {
        "colab": {
          "base_uri": "https://localhost:8080/"
        },
        "id": "xW63XoA1ziu1",
        "outputId": "c889990b-d691-4ddc-eb6b-3cd554444d6e"
      },
      "execution_count": 13,
      "outputs": [
        {
          "output_type": "stream",
          "name": "stdout",
          "text": [
            "Found 13440 files belonging to 28 classes.\n"
          ]
        }
      ]
    },
    {
      "cell_type": "markdown",
      "source": [
        "## Model Builder"
      ],
      "metadata": {
        "id": "-t4NPO-50HZ0"
      }
    },
    {
      "cell_type": "code",
      "source": [
        "class ModelBuilder:\n",
        "    def __init__(self, input_shape, num_classes):\n",
        "        self.input_shape = input_shape\n",
        "        self.num_classes = num_classes\n",
        "\n",
        "    def build_model(self):\n",
        "        model = models.Sequential([\n",
        "            layers.Conv2D(32, (3, 3), activation='relu', input_shape=self.input_shape),\n",
        "            layers.BatchNormalization(),\n",
        "            layers.MaxPooling2D((2, 2)),\n",
        "            layers.Conv2D(64, (3, 3), activation='relu'),\n",
        "            layers.BatchNormalization(),\n",
        "            layers.MaxPooling2D((2, 2)),\n",
        "            layers.Conv2D(128, (3, 3), activation='relu'),\n",
        "            layers.BatchNormalization(),\n",
        "            layers.MaxPooling2D((2, 2)),\n",
        "            layers.Flatten(),\n",
        "            layers.Dense(512, activation='relu'),\n",
        "            layers.BatchNormalization(),\n",
        "            layers.Dropout(0.5),\n",
        "            layers.Dense(256, activation='relu'),\n",
        "            layers.BatchNormalization(),\n",
        "            layers.Dropout(0.5),\n",
        "            layers.Dense(self.num_classes, activation='softmax')\n",
        "        ])\n",
        "        model.compile(optimizer='adam', loss='sparse_categorical_crossentropy', metrics=['accuracy'])\n",
        "        return model\n",
        "\n",
        "input_shape = (32, 32, 3)\n",
        "num_classes = len(os.listdir('/content/arabic_handwritten_chars_image_all_13440_32x32'))\n",
        "\n",
        "model_builder = ModelBuilder(input_shape=input_shape, num_classes=num_classes)\n",
        "model = model_builder.build_model()\n",
        "model.summary()"
      ],
      "metadata": {
        "colab": {
          "base_uri": "https://localhost:8080/",
          "height": 819
        },
        "id": "yGbJ6h1f0JoT",
        "outputId": "f2855147-3cee-4a12-ba32-7275bc7218fb"
      },
      "execution_count": 14,
      "outputs": [
        {
          "output_type": "stream",
          "name": "stderr",
          "text": [
            "/usr/local/lib/python3.10/dist-packages/keras/src/layers/convolutional/base_conv.py:107: UserWarning: Do not pass an `input_shape`/`input_dim` argument to a layer. When using Sequential models, prefer using an `Input(shape)` object as the first layer in the model instead.\n",
            "  super().__init__(activity_regularizer=activity_regularizer, **kwargs)\n"
          ]
        },
        {
          "output_type": "display_data",
          "data": {
            "text/plain": [
              "\u001b[1mModel: \"sequential\"\u001b[0m\n"
            ],
            "text/html": [
              "<pre style=\"white-space:pre;overflow-x:auto;line-height:normal;font-family:Menlo,'DejaVu Sans Mono',consolas,'Courier New',monospace\"><span style=\"font-weight: bold\">Model: \"sequential\"</span>\n",
              "</pre>\n"
            ]
          },
          "metadata": {}
        },
        {
          "output_type": "display_data",
          "data": {
            "text/plain": [
              "┏━━━━━━━━━━━━━━━━━━━━━━━━━━━━━━━━━━━━━━┳━━━━━━━━━━━━━━━━━━━━━━━━━━━━━┳━━━━━━━━━━━━━━━━━┓\n",
              "┃\u001b[1m \u001b[0m\u001b[1mLayer (type)                        \u001b[0m\u001b[1m \u001b[0m┃\u001b[1m \u001b[0m\u001b[1mOutput Shape               \u001b[0m\u001b[1m \u001b[0m┃\u001b[1m \u001b[0m\u001b[1m        Param #\u001b[0m\u001b[1m \u001b[0m┃\n",
              "┡━━━━━━━━━━━━━━━━━━━━━━━━━━━━━━━━━━━━━━╇━━━━━━━━━━━━━━━━━━━━━━━━━━━━━╇━━━━━━━━━━━━━━━━━┩\n",
              "│ conv2d (\u001b[38;5;33mConv2D\u001b[0m)                      │ (\u001b[38;5;45mNone\u001b[0m, \u001b[38;5;34m30\u001b[0m, \u001b[38;5;34m30\u001b[0m, \u001b[38;5;34m32\u001b[0m)          │             \u001b[38;5;34m896\u001b[0m │\n",
              "├──────────────────────────────────────┼─────────────────────────────┼─────────────────┤\n",
              "│ batch_normalization                  │ (\u001b[38;5;45mNone\u001b[0m, \u001b[38;5;34m30\u001b[0m, \u001b[38;5;34m30\u001b[0m, \u001b[38;5;34m32\u001b[0m)          │             \u001b[38;5;34m128\u001b[0m │\n",
              "│ (\u001b[38;5;33mBatchNormalization\u001b[0m)                 │                             │                 │\n",
              "├──────────────────────────────────────┼─────────────────────────────┼─────────────────┤\n",
              "│ max_pooling2d (\u001b[38;5;33mMaxPooling2D\u001b[0m)         │ (\u001b[38;5;45mNone\u001b[0m, \u001b[38;5;34m15\u001b[0m, \u001b[38;5;34m15\u001b[0m, \u001b[38;5;34m32\u001b[0m)          │               \u001b[38;5;34m0\u001b[0m │\n",
              "├──────────────────────────────────────┼─────────────────────────────┼─────────────────┤\n",
              "│ conv2d_1 (\u001b[38;5;33mConv2D\u001b[0m)                    │ (\u001b[38;5;45mNone\u001b[0m, \u001b[38;5;34m13\u001b[0m, \u001b[38;5;34m13\u001b[0m, \u001b[38;5;34m64\u001b[0m)          │          \u001b[38;5;34m18,496\u001b[0m │\n",
              "├──────────────────────────────────────┼─────────────────────────────┼─────────────────┤\n",
              "│ batch_normalization_1                │ (\u001b[38;5;45mNone\u001b[0m, \u001b[38;5;34m13\u001b[0m, \u001b[38;5;34m13\u001b[0m, \u001b[38;5;34m64\u001b[0m)          │             \u001b[38;5;34m256\u001b[0m │\n",
              "│ (\u001b[38;5;33mBatchNormalization\u001b[0m)                 │                             │                 │\n",
              "├──────────────────────────────────────┼─────────────────────────────┼─────────────────┤\n",
              "│ max_pooling2d_1 (\u001b[38;5;33mMaxPooling2D\u001b[0m)       │ (\u001b[38;5;45mNone\u001b[0m, \u001b[38;5;34m6\u001b[0m, \u001b[38;5;34m6\u001b[0m, \u001b[38;5;34m64\u001b[0m)            │               \u001b[38;5;34m0\u001b[0m │\n",
              "├──────────────────────────────────────┼─────────────────────────────┼─────────────────┤\n",
              "│ conv2d_2 (\u001b[38;5;33mConv2D\u001b[0m)                    │ (\u001b[38;5;45mNone\u001b[0m, \u001b[38;5;34m4\u001b[0m, \u001b[38;5;34m4\u001b[0m, \u001b[38;5;34m128\u001b[0m)           │          \u001b[38;5;34m73,856\u001b[0m │\n",
              "├──────────────────────────────────────┼─────────────────────────────┼─────────────────┤\n",
              "│ batch_normalization_2                │ (\u001b[38;5;45mNone\u001b[0m, \u001b[38;5;34m4\u001b[0m, \u001b[38;5;34m4\u001b[0m, \u001b[38;5;34m128\u001b[0m)           │             \u001b[38;5;34m512\u001b[0m │\n",
              "│ (\u001b[38;5;33mBatchNormalization\u001b[0m)                 │                             │                 │\n",
              "├──────────────────────────────────────┼─────────────────────────────┼─────────────────┤\n",
              "│ max_pooling2d_2 (\u001b[38;5;33mMaxPooling2D\u001b[0m)       │ (\u001b[38;5;45mNone\u001b[0m, \u001b[38;5;34m2\u001b[0m, \u001b[38;5;34m2\u001b[0m, \u001b[38;5;34m128\u001b[0m)           │               \u001b[38;5;34m0\u001b[0m │\n",
              "├──────────────────────────────────────┼─────────────────────────────┼─────────────────┤\n",
              "│ flatten (\u001b[38;5;33mFlatten\u001b[0m)                    │ (\u001b[38;5;45mNone\u001b[0m, \u001b[38;5;34m512\u001b[0m)                 │               \u001b[38;5;34m0\u001b[0m │\n",
              "├──────────────────────────────────────┼─────────────────────────────┼─────────────────┤\n",
              "│ dense (\u001b[38;5;33mDense\u001b[0m)                        │ (\u001b[38;5;45mNone\u001b[0m, \u001b[38;5;34m512\u001b[0m)                 │         \u001b[38;5;34m262,656\u001b[0m │\n",
              "├──────────────────────────────────────┼─────────────────────────────┼─────────────────┤\n",
              "│ batch_normalization_3                │ (\u001b[38;5;45mNone\u001b[0m, \u001b[38;5;34m512\u001b[0m)                 │           \u001b[38;5;34m2,048\u001b[0m │\n",
              "│ (\u001b[38;5;33mBatchNormalization\u001b[0m)                 │                             │                 │\n",
              "├──────────────────────────────────────┼─────────────────────────────┼─────────────────┤\n",
              "│ dropout (\u001b[38;5;33mDropout\u001b[0m)                    │ (\u001b[38;5;45mNone\u001b[0m, \u001b[38;5;34m512\u001b[0m)                 │               \u001b[38;5;34m0\u001b[0m │\n",
              "├──────────────────────────────────────┼─────────────────────────────┼─────────────────┤\n",
              "│ dense_1 (\u001b[38;5;33mDense\u001b[0m)                      │ (\u001b[38;5;45mNone\u001b[0m, \u001b[38;5;34m256\u001b[0m)                 │         \u001b[38;5;34m131,328\u001b[0m │\n",
              "├──────────────────────────────────────┼─────────────────────────────┼─────────────────┤\n",
              "│ batch_normalization_4                │ (\u001b[38;5;45mNone\u001b[0m, \u001b[38;5;34m256\u001b[0m)                 │           \u001b[38;5;34m1,024\u001b[0m │\n",
              "│ (\u001b[38;5;33mBatchNormalization\u001b[0m)                 │                             │                 │\n",
              "├──────────────────────────────────────┼─────────────────────────────┼─────────────────┤\n",
              "│ dropout_1 (\u001b[38;5;33mDropout\u001b[0m)                  │ (\u001b[38;5;45mNone\u001b[0m, \u001b[38;5;34m256\u001b[0m)                 │               \u001b[38;5;34m0\u001b[0m │\n",
              "├──────────────────────────────────────┼─────────────────────────────┼─────────────────┤\n",
              "│ dense_2 (\u001b[38;5;33mDense\u001b[0m)                      │ (\u001b[38;5;45mNone\u001b[0m, \u001b[38;5;34m28\u001b[0m)                  │           \u001b[38;5;34m7,196\u001b[0m │\n",
              "└──────────────────────────────────────┴─────────────────────────────┴─────────────────┘\n"
            ],
            "text/html": [
              "<pre style=\"white-space:pre;overflow-x:auto;line-height:normal;font-family:Menlo,'DejaVu Sans Mono',consolas,'Courier New',monospace\">┏━━━━━━━━━━━━━━━━━━━━━━━━━━━━━━━━━━━━━━┳━━━━━━━━━━━━━━━━━━━━━━━━━━━━━┳━━━━━━━━━━━━━━━━━┓\n",
              "┃<span style=\"font-weight: bold\"> Layer (type)                         </span>┃<span style=\"font-weight: bold\"> Output Shape                </span>┃<span style=\"font-weight: bold\">         Param # </span>┃\n",
              "┡━━━━━━━━━━━━━━━━━━━━━━━━━━━━━━━━━━━━━━╇━━━━━━━━━━━━━━━━━━━━━━━━━━━━━╇━━━━━━━━━━━━━━━━━┩\n",
              "│ conv2d (<span style=\"color: #0087ff; text-decoration-color: #0087ff\">Conv2D</span>)                      │ (<span style=\"color: #00d7ff; text-decoration-color: #00d7ff\">None</span>, <span style=\"color: #00af00; text-decoration-color: #00af00\">30</span>, <span style=\"color: #00af00; text-decoration-color: #00af00\">30</span>, <span style=\"color: #00af00; text-decoration-color: #00af00\">32</span>)          │             <span style=\"color: #00af00; text-decoration-color: #00af00\">896</span> │\n",
              "├──────────────────────────────────────┼─────────────────────────────┼─────────────────┤\n",
              "│ batch_normalization                  │ (<span style=\"color: #00d7ff; text-decoration-color: #00d7ff\">None</span>, <span style=\"color: #00af00; text-decoration-color: #00af00\">30</span>, <span style=\"color: #00af00; text-decoration-color: #00af00\">30</span>, <span style=\"color: #00af00; text-decoration-color: #00af00\">32</span>)          │             <span style=\"color: #00af00; text-decoration-color: #00af00\">128</span> │\n",
              "│ (<span style=\"color: #0087ff; text-decoration-color: #0087ff\">BatchNormalization</span>)                 │                             │                 │\n",
              "├──────────────────────────────────────┼─────────────────────────────┼─────────────────┤\n",
              "│ max_pooling2d (<span style=\"color: #0087ff; text-decoration-color: #0087ff\">MaxPooling2D</span>)         │ (<span style=\"color: #00d7ff; text-decoration-color: #00d7ff\">None</span>, <span style=\"color: #00af00; text-decoration-color: #00af00\">15</span>, <span style=\"color: #00af00; text-decoration-color: #00af00\">15</span>, <span style=\"color: #00af00; text-decoration-color: #00af00\">32</span>)          │               <span style=\"color: #00af00; text-decoration-color: #00af00\">0</span> │\n",
              "├──────────────────────────────────────┼─────────────────────────────┼─────────────────┤\n",
              "│ conv2d_1 (<span style=\"color: #0087ff; text-decoration-color: #0087ff\">Conv2D</span>)                    │ (<span style=\"color: #00d7ff; text-decoration-color: #00d7ff\">None</span>, <span style=\"color: #00af00; text-decoration-color: #00af00\">13</span>, <span style=\"color: #00af00; text-decoration-color: #00af00\">13</span>, <span style=\"color: #00af00; text-decoration-color: #00af00\">64</span>)          │          <span style=\"color: #00af00; text-decoration-color: #00af00\">18,496</span> │\n",
              "├──────────────────────────────────────┼─────────────────────────────┼─────────────────┤\n",
              "│ batch_normalization_1                │ (<span style=\"color: #00d7ff; text-decoration-color: #00d7ff\">None</span>, <span style=\"color: #00af00; text-decoration-color: #00af00\">13</span>, <span style=\"color: #00af00; text-decoration-color: #00af00\">13</span>, <span style=\"color: #00af00; text-decoration-color: #00af00\">64</span>)          │             <span style=\"color: #00af00; text-decoration-color: #00af00\">256</span> │\n",
              "│ (<span style=\"color: #0087ff; text-decoration-color: #0087ff\">BatchNormalization</span>)                 │                             │                 │\n",
              "├──────────────────────────────────────┼─────────────────────────────┼─────────────────┤\n",
              "│ max_pooling2d_1 (<span style=\"color: #0087ff; text-decoration-color: #0087ff\">MaxPooling2D</span>)       │ (<span style=\"color: #00d7ff; text-decoration-color: #00d7ff\">None</span>, <span style=\"color: #00af00; text-decoration-color: #00af00\">6</span>, <span style=\"color: #00af00; text-decoration-color: #00af00\">6</span>, <span style=\"color: #00af00; text-decoration-color: #00af00\">64</span>)            │               <span style=\"color: #00af00; text-decoration-color: #00af00\">0</span> │\n",
              "├──────────────────────────────────────┼─────────────────────────────┼─────────────────┤\n",
              "│ conv2d_2 (<span style=\"color: #0087ff; text-decoration-color: #0087ff\">Conv2D</span>)                    │ (<span style=\"color: #00d7ff; text-decoration-color: #00d7ff\">None</span>, <span style=\"color: #00af00; text-decoration-color: #00af00\">4</span>, <span style=\"color: #00af00; text-decoration-color: #00af00\">4</span>, <span style=\"color: #00af00; text-decoration-color: #00af00\">128</span>)           │          <span style=\"color: #00af00; text-decoration-color: #00af00\">73,856</span> │\n",
              "├──────────────────────────────────────┼─────────────────────────────┼─────────────────┤\n",
              "│ batch_normalization_2                │ (<span style=\"color: #00d7ff; text-decoration-color: #00d7ff\">None</span>, <span style=\"color: #00af00; text-decoration-color: #00af00\">4</span>, <span style=\"color: #00af00; text-decoration-color: #00af00\">4</span>, <span style=\"color: #00af00; text-decoration-color: #00af00\">128</span>)           │             <span style=\"color: #00af00; text-decoration-color: #00af00\">512</span> │\n",
              "│ (<span style=\"color: #0087ff; text-decoration-color: #0087ff\">BatchNormalization</span>)                 │                             │                 │\n",
              "├──────────────────────────────────────┼─────────────────────────────┼─────────────────┤\n",
              "│ max_pooling2d_2 (<span style=\"color: #0087ff; text-decoration-color: #0087ff\">MaxPooling2D</span>)       │ (<span style=\"color: #00d7ff; text-decoration-color: #00d7ff\">None</span>, <span style=\"color: #00af00; text-decoration-color: #00af00\">2</span>, <span style=\"color: #00af00; text-decoration-color: #00af00\">2</span>, <span style=\"color: #00af00; text-decoration-color: #00af00\">128</span>)           │               <span style=\"color: #00af00; text-decoration-color: #00af00\">0</span> │\n",
              "├──────────────────────────────────────┼─────────────────────────────┼─────────────────┤\n",
              "│ flatten (<span style=\"color: #0087ff; text-decoration-color: #0087ff\">Flatten</span>)                    │ (<span style=\"color: #00d7ff; text-decoration-color: #00d7ff\">None</span>, <span style=\"color: #00af00; text-decoration-color: #00af00\">512</span>)                 │               <span style=\"color: #00af00; text-decoration-color: #00af00\">0</span> │\n",
              "├──────────────────────────────────────┼─────────────────────────────┼─────────────────┤\n",
              "│ dense (<span style=\"color: #0087ff; text-decoration-color: #0087ff\">Dense</span>)                        │ (<span style=\"color: #00d7ff; text-decoration-color: #00d7ff\">None</span>, <span style=\"color: #00af00; text-decoration-color: #00af00\">512</span>)                 │         <span style=\"color: #00af00; text-decoration-color: #00af00\">262,656</span> │\n",
              "├──────────────────────────────────────┼─────────────────────────────┼─────────────────┤\n",
              "│ batch_normalization_3                │ (<span style=\"color: #00d7ff; text-decoration-color: #00d7ff\">None</span>, <span style=\"color: #00af00; text-decoration-color: #00af00\">512</span>)                 │           <span style=\"color: #00af00; text-decoration-color: #00af00\">2,048</span> │\n",
              "│ (<span style=\"color: #0087ff; text-decoration-color: #0087ff\">BatchNormalization</span>)                 │                             │                 │\n",
              "├──────────────────────────────────────┼─────────────────────────────┼─────────────────┤\n",
              "│ dropout (<span style=\"color: #0087ff; text-decoration-color: #0087ff\">Dropout</span>)                    │ (<span style=\"color: #00d7ff; text-decoration-color: #00d7ff\">None</span>, <span style=\"color: #00af00; text-decoration-color: #00af00\">512</span>)                 │               <span style=\"color: #00af00; text-decoration-color: #00af00\">0</span> │\n",
              "├──────────────────────────────────────┼─────────────────────────────┼─────────────────┤\n",
              "│ dense_1 (<span style=\"color: #0087ff; text-decoration-color: #0087ff\">Dense</span>)                      │ (<span style=\"color: #00d7ff; text-decoration-color: #00d7ff\">None</span>, <span style=\"color: #00af00; text-decoration-color: #00af00\">256</span>)                 │         <span style=\"color: #00af00; text-decoration-color: #00af00\">131,328</span> │\n",
              "├──────────────────────────────────────┼─────────────────────────────┼─────────────────┤\n",
              "│ batch_normalization_4                │ (<span style=\"color: #00d7ff; text-decoration-color: #00d7ff\">None</span>, <span style=\"color: #00af00; text-decoration-color: #00af00\">256</span>)                 │           <span style=\"color: #00af00; text-decoration-color: #00af00\">1,024</span> │\n",
              "│ (<span style=\"color: #0087ff; text-decoration-color: #0087ff\">BatchNormalization</span>)                 │                             │                 │\n",
              "├──────────────────────────────────────┼─────────────────────────────┼─────────────────┤\n",
              "│ dropout_1 (<span style=\"color: #0087ff; text-decoration-color: #0087ff\">Dropout</span>)                  │ (<span style=\"color: #00d7ff; text-decoration-color: #00d7ff\">None</span>, <span style=\"color: #00af00; text-decoration-color: #00af00\">256</span>)                 │               <span style=\"color: #00af00; text-decoration-color: #00af00\">0</span> │\n",
              "├──────────────────────────────────────┼─────────────────────────────┼─────────────────┤\n",
              "│ dense_2 (<span style=\"color: #0087ff; text-decoration-color: #0087ff\">Dense</span>)                      │ (<span style=\"color: #00d7ff; text-decoration-color: #00d7ff\">None</span>, <span style=\"color: #00af00; text-decoration-color: #00af00\">28</span>)                  │           <span style=\"color: #00af00; text-decoration-color: #00af00\">7,196</span> │\n",
              "└──────────────────────────────────────┴─────────────────────────────┴─────────────────┘\n",
              "</pre>\n"
            ]
          },
          "metadata": {}
        },
        {
          "output_type": "display_data",
          "data": {
            "text/plain": [
              "\u001b[1m Total params: \u001b[0m\u001b[38;5;34m498,396\u001b[0m (1.90 MB)\n"
            ],
            "text/html": [
              "<pre style=\"white-space:pre;overflow-x:auto;line-height:normal;font-family:Menlo,'DejaVu Sans Mono',consolas,'Courier New',monospace\"><span style=\"font-weight: bold\"> Total params: </span><span style=\"color: #00af00; text-decoration-color: #00af00\">498,396</span> (1.90 MB)\n",
              "</pre>\n"
            ]
          },
          "metadata": {}
        },
        {
          "output_type": "display_data",
          "data": {
            "text/plain": [
              "\u001b[1m Trainable params: \u001b[0m\u001b[38;5;34m496,412\u001b[0m (1.89 MB)\n"
            ],
            "text/html": [
              "<pre style=\"white-space:pre;overflow-x:auto;line-height:normal;font-family:Menlo,'DejaVu Sans Mono',consolas,'Courier New',monospace\"><span style=\"font-weight: bold\"> Trainable params: </span><span style=\"color: #00af00; text-decoration-color: #00af00\">496,412</span> (1.89 MB)\n",
              "</pre>\n"
            ]
          },
          "metadata": {}
        },
        {
          "output_type": "display_data",
          "data": {
            "text/plain": [
              "\u001b[1m Non-trainable params: \u001b[0m\u001b[38;5;34m1,984\u001b[0m (7.75 KB)\n"
            ],
            "text/html": [
              "<pre style=\"white-space:pre;overflow-x:auto;line-height:normal;font-family:Menlo,'DejaVu Sans Mono',consolas,'Courier New',monospace\"><span style=\"font-weight: bold\"> Non-trainable params: </span><span style=\"color: #00af00; text-decoration-color: #00af00\">1,984</span> (7.75 KB)\n",
              "</pre>\n"
            ]
          },
          "metadata": {}
        }
      ]
    },
    {
      "cell_type": "markdown",
      "source": [
        "## Model Trainer"
      ],
      "metadata": {
        "id": "AkyhhMv30P8D"
      }
    },
    {
      "cell_type": "code",
      "source": [
        "class EarlyStoppingByAccuracy(Callback):\n",
        "    def __init__(self, accuracy_threshold=0.95):\n",
        "        super(EarlyStoppingByAccuracy, self).__init__()\n",
        "        self.accuracy_threshold = accuracy_threshold\n",
        "\n",
        "    def on_epoch_end(self, epoch, logs=None):\n",
        "        train_acc = logs.get('accuracy')\n",
        "        val_acc = logs.get('val_accuracy')\n",
        "\n",
        "        if train_acc >= self.accuracy_threshold and val_acc >= self.accuracy_threshold:\n",
        "            print(f\"\\nEpoch {epoch}: Reached {self.accuracy_threshold * 100}% accuracy, stopping training...\")\n",
        "            self.model.stop_training = True\n",
        "\n",
        "class ModelTrainer:\n",
        "    def __init__(self, model, train_dataset, val_dataset):\n",
        "        self.model = model\n",
        "        self.train_dataset = train_dataset\n",
        "        self.val_dataset = val_dataset\n",
        "\n",
        "    def train_model(self, epochs=60):\n",
        "        early_stopping_acc = EarlyStoppingByAccuracy(accuracy_threshold=0.95)\n",
        "\n",
        "        callbacks = [\n",
        "            tf.keras.callbacks.EarlyStopping(monitor='val_loss', patience=10, restore_best_weights=True),\n",
        "            tf.keras.callbacks.ReduceLROnPlateau(monitor='val_loss', factor=0.2, patience=5, min_lr=0.0001),\n",
        "            tf.keras.callbacks.ModelCheckpoint('best_model.keras', monitor='val_loss', save_best_only=True, mode='min'),\n",
        "            early_stopping_acc\n",
        "        ]\n",
        "\n",
        "        history = self.model.fit(\n",
        "            self.train_dataset,\n",
        "            epochs=epochs,\n",
        "            validation_data=self.val_dataset,\n",
        "            callbacks=callbacks\n",
        "        )\n",
        "        return history\n",
        "\n",
        "model_trainer = ModelTrainer(model=model, train_dataset=train_dataset, val_dataset=test_dataset)\n",
        "history = model_trainer.train_model(epochs=100)"
      ],
      "metadata": {
        "colab": {
          "base_uri": "https://localhost:8080/"
        },
        "id": "MDKqHBZC0PKI",
        "outputId": "c0bce8da-c998-4443-b3c2-58f51bcd4216"
      },
      "execution_count": 15,
      "outputs": [
        {
          "output_type": "stream",
          "name": "stdout",
          "text": [
            "Epoch 1/100\n",
            "\u001b[1m336/336\u001b[0m \u001b[32m━━━━━━━━━━━━━━━━━━━━\u001b[0m\u001b[37m\u001b[0m \u001b[1m12s\u001b[0m 24ms/step - accuracy: 0.2796 - loss: 2.8461 - val_accuracy: 0.7113 - val_loss: 0.8512 - learning_rate: 0.0010\n",
            "Epoch 2/100\n",
            "\u001b[1m336/336\u001b[0m \u001b[32m━━━━━━━━━━━━━━━━━━━━\u001b[0m\u001b[37m\u001b[0m \u001b[1m8s\u001b[0m 22ms/step - accuracy: 0.6553 - loss: 1.0513 - val_accuracy: 0.7894 - val_loss: 0.6266 - learning_rate: 0.0010\n",
            "Epoch 3/100\n",
            "\u001b[1m336/336\u001b[0m \u001b[32m━━━━━━━━━━━━━━━━━━━━\u001b[0m\u001b[37m\u001b[0m \u001b[1m8s\u001b[0m 23ms/step - accuracy: 0.7742 - loss: 0.7021 - val_accuracy: 0.8828 - val_loss: 0.3555 - learning_rate: 0.0010\n",
            "Epoch 4/100\n",
            "\u001b[1m336/336\u001b[0m \u001b[32m━━━━━━━━━━━━━━━━━━━━\u001b[0m\u001b[37m\u001b[0m \u001b[1m7s\u001b[0m 22ms/step - accuracy: 0.8182 - loss: 0.5539 - val_accuracy: 0.8616 - val_loss: 0.4053 - learning_rate: 0.0010\n",
            "Epoch 5/100\n",
            "\u001b[1m336/336\u001b[0m \u001b[32m━━━━━━━━━━━━━━━━━━━━\u001b[0m\u001b[37m\u001b[0m \u001b[1m7s\u001b[0m 22ms/step - accuracy: 0.8563 - loss: 0.4516 - val_accuracy: 0.9167 - val_loss: 0.2664 - learning_rate: 0.0010\n",
            "Epoch 6/100\n",
            "\u001b[1m336/336\u001b[0m \u001b[32m━━━━━━━━━━━━━━━━━━━━\u001b[0m\u001b[37m\u001b[0m \u001b[1m7s\u001b[0m 22ms/step - accuracy: 0.8667 - loss: 0.3929 - val_accuracy: 0.9033 - val_loss: 0.3067 - learning_rate: 0.0010\n",
            "Epoch 7/100\n",
            "\u001b[1m336/336\u001b[0m \u001b[32m━━━━━━━━━━━━━━━━━━━━\u001b[0m\u001b[37m\u001b[0m \u001b[1m7s\u001b[0m 22ms/step - accuracy: 0.8987 - loss: 0.3084 - val_accuracy: 0.9141 - val_loss: 0.2666 - learning_rate: 0.0010\n",
            "Epoch 8/100\n",
            "\u001b[1m336/336\u001b[0m \u001b[32m━━━━━━━━━━━━━━━━━━━━\u001b[0m\u001b[37m\u001b[0m \u001b[1m7s\u001b[0m 22ms/step - accuracy: 0.9086 - loss: 0.2823 - val_accuracy: 0.9170 - val_loss: 0.2562 - learning_rate: 0.0010\n",
            "Epoch 9/100\n",
            "\u001b[1m336/336\u001b[0m \u001b[32m━━━━━━━━━━━━━━━━━━━━\u001b[0m\u001b[37m\u001b[0m \u001b[1m7s\u001b[0m 22ms/step - accuracy: 0.9153 - loss: 0.2497 - val_accuracy: 0.9022 - val_loss: 0.2968 - learning_rate: 0.0010\n",
            "Epoch 10/100\n",
            "\u001b[1m336/336\u001b[0m \u001b[32m━━━━━━━━━━━━━━━━━━━━\u001b[0m\u001b[37m\u001b[0m \u001b[1m7s\u001b[0m 22ms/step - accuracy: 0.9260 - loss: 0.2308 - val_accuracy: 0.9133 - val_loss: 0.2695 - learning_rate: 0.0010\n",
            "Epoch 11/100\n",
            "\u001b[1m336/336\u001b[0m \u001b[32m━━━━━━━━━━━━━━━━━━━━\u001b[0m\u001b[37m\u001b[0m \u001b[1m7s\u001b[0m 22ms/step - accuracy: 0.9325 - loss: 0.1917 - val_accuracy: 0.9360 - val_loss: 0.2153 - learning_rate: 0.0010\n",
            "Epoch 12/100\n",
            "\u001b[1m336/336\u001b[0m \u001b[32m━━━━━━━━━━━━━━━━━━━━\u001b[0m\u001b[37m\u001b[0m \u001b[1m7s\u001b[0m 22ms/step - accuracy: 0.9361 - loss: 0.1938 - val_accuracy: 0.9144 - val_loss: 0.2746 - learning_rate: 0.0010\n",
            "Epoch 13/100\n",
            "\u001b[1m336/336\u001b[0m \u001b[32m━━━━━━━━━━━━━━━━━━━━\u001b[0m\u001b[37m\u001b[0m \u001b[1m7s\u001b[0m 22ms/step - accuracy: 0.9446 - loss: 0.1727 - val_accuracy: 0.9185 - val_loss: 0.2854 - learning_rate: 0.0010\n",
            "Epoch 14/100\n",
            "\u001b[1m336/336\u001b[0m \u001b[32m━━━━━━━━━━━━━━━━━━━━\u001b[0m\u001b[37m\u001b[0m \u001b[1m7s\u001b[0m 22ms/step - accuracy: 0.9433 - loss: 0.1628 - val_accuracy: 0.9193 - val_loss: 0.2625 - learning_rate: 0.0010\n",
            "Epoch 15/100\n",
            "\u001b[1m336/336\u001b[0m \u001b[32m━━━━━━━━━━━━━━━━━━━━\u001b[0m\u001b[37m\u001b[0m \u001b[1m7s\u001b[0m 21ms/step - accuracy: 0.9526 - loss: 0.1384 - val_accuracy: 0.9204 - val_loss: 0.2724 - learning_rate: 0.0010\n",
            "Epoch 16/100\n",
            "\u001b[1m336/336\u001b[0m \u001b[32m━━━━━━━━━━━━━━━━━━━━\u001b[0m\u001b[37m\u001b[0m \u001b[1m7s\u001b[0m 21ms/step - accuracy: 0.9507 - loss: 0.1447 - val_accuracy: 0.9282 - val_loss: 0.2425 - learning_rate: 0.0010\n",
            "Epoch 17/100\n",
            "\u001b[1m336/336\u001b[0m \u001b[32m━━━━━━━━━━━━━━━━━━━━\u001b[0m\u001b[37m\u001b[0m \u001b[1m7s\u001b[0m 22ms/step - accuracy: 0.9654 - loss: 0.1071 - val_accuracy: 0.9420 - val_loss: 0.1945 - learning_rate: 2.0000e-04\n",
            "Epoch 18/100\n",
            "\u001b[1m336/336\u001b[0m \u001b[32m━━━━━━━━━━━━━━━━━━━━\u001b[0m\u001b[37m\u001b[0m \u001b[1m7s\u001b[0m 22ms/step - accuracy: 0.9824 - loss: 0.0574 - val_accuracy: 0.9449 - val_loss: 0.1878 - learning_rate: 2.0000e-04\n",
            "Epoch 19/100\n",
            "\u001b[1m336/336\u001b[0m \u001b[32m━━━━━━━━━━━━━━━━━━━━\u001b[0m\u001b[37m\u001b[0m \u001b[1m7s\u001b[0m 22ms/step - accuracy: 0.9849 - loss: 0.0545 - val_accuracy: 0.9464 - val_loss: 0.1822 - learning_rate: 2.0000e-04\n",
            "Epoch 20/100\n",
            "\u001b[1m336/336\u001b[0m \u001b[32m━━━━━━━━━━━━━━━━━━━━\u001b[0m\u001b[37m\u001b[0m \u001b[1m7s\u001b[0m 21ms/step - accuracy: 0.9884 - loss: 0.0386 - val_accuracy: 0.9431 - val_loss: 0.1920 - learning_rate: 2.0000e-04\n",
            "Epoch 21/100\n",
            "\u001b[1m336/336\u001b[0m \u001b[32m━━━━━━━━━━━━━━━━━━━━\u001b[0m\u001b[37m\u001b[0m \u001b[1m7s\u001b[0m 21ms/step - accuracy: 0.9849 - loss: 0.0424 - val_accuracy: 0.9468 - val_loss: 0.1747 - learning_rate: 2.0000e-04\n",
            "Epoch 22/100\n",
            "\u001b[1m336/336\u001b[0m \u001b[32m━━━━━━━━━━━━━━━━━━━━\u001b[0m\u001b[37m\u001b[0m \u001b[1m7s\u001b[0m 21ms/step - accuracy: 0.9887 - loss: 0.0340 - val_accuracy: 0.9472 - val_loss: 0.1948 - learning_rate: 2.0000e-04\n",
            "Epoch 23/100\n",
            "\u001b[1m336/336\u001b[0m \u001b[32m━━━━━━━━━━━━━━━━━━━━\u001b[0m\u001b[37m\u001b[0m \u001b[1m7s\u001b[0m 21ms/step - accuracy: 0.9913 - loss: 0.0289 - val_accuracy: 0.9483 - val_loss: 0.1977 - learning_rate: 2.0000e-04\n",
            "Epoch 24/100\n",
            "\u001b[1m336/336\u001b[0m \u001b[32m━━━━━━━━━━━━━━━━━━━━\u001b[0m\u001b[37m\u001b[0m \u001b[1m7s\u001b[0m 21ms/step - accuracy: 0.9915 - loss: 0.0272 - val_accuracy: 0.9461 - val_loss: 0.1970 - learning_rate: 2.0000e-04\n",
            "Epoch 25/100\n",
            "\u001b[1m336/336\u001b[0m \u001b[32m━━━━━━━━━━━━━━━━━━━━\u001b[0m\u001b[37m\u001b[0m \u001b[1m7s\u001b[0m 21ms/step - accuracy: 0.9937 - loss: 0.0239 - val_accuracy: 0.9420 - val_loss: 0.2146 - learning_rate: 2.0000e-04\n",
            "Epoch 26/100\n",
            "\u001b[1m336/336\u001b[0m \u001b[32m━━━━━━━━━━━━━━━━━━━━\u001b[0m\u001b[37m\u001b[0m \u001b[1m7s\u001b[0m 22ms/step - accuracy: 0.9912 - loss: 0.0308 - val_accuracy: 0.9468 - val_loss: 0.1992 - learning_rate: 2.0000e-04\n",
            "Epoch 27/100\n",
            "\u001b[1m334/336\u001b[0m \u001b[32m━━━━━━━━━━━━━━━━━━━\u001b[0m\u001b[37m━\u001b[0m \u001b[1m0s\u001b[0m 19ms/step - accuracy: 0.9929 - loss: 0.0237\n",
            "Epoch 26: Reached 95.0% accuracy, stopping training...\n",
            "\u001b[1m336/336\u001b[0m \u001b[32m━━━━━━━━━━━━━━━━━━━━\u001b[0m\u001b[37m\u001b[0m \u001b[1m7s\u001b[0m 21ms/step - accuracy: 0.9929 - loss: 0.0237 - val_accuracy: 0.9501 - val_loss: 0.1868 - learning_rate: 1.0000e-04\n"
          ]
        }
      ]
    },
    {
      "cell_type": "markdown",
      "source": [
        "## Model Evaluate"
      ],
      "metadata": {
        "id": "gvksP_Yk3ITp"
      }
    },
    {
      "cell_type": "code",
      "source": [
        "best_model = tf.keras.models.load_model('best_model.keras')\n",
        "\n",
        "train_loss, train_acc = best_model.evaluate(train_dataset)\n",
        "test_loss, test_acc = best_model.evaluate(test_dataset)\n",
        "\n",
        "print(f\"Train Accuracy: {train_acc:.2f}\")\n",
        "print(f\"Validation Accuracy: {test_acc:.2f}\")"
      ],
      "metadata": {
        "colab": {
          "base_uri": "https://localhost:8080/"
        },
        "id": "7Ozvnp0m3J2e",
        "outputId": "153a6227-c88d-4750-9884-38469d4f99eb"
      },
      "execution_count": 16,
      "outputs": [
        {
          "output_type": "stream",
          "name": "stdout",
          "text": [
            "\u001b[1m336/336\u001b[0m \u001b[32m━━━━━━━━━━━━━━━━━━━━\u001b[0m\u001b[37m\u001b[0m \u001b[1m2s\u001b[0m 5ms/step - accuracy: 0.9997 - loss: 0.0025\n",
            "\u001b[1m84/84\u001b[0m \u001b[32m━━━━━━━━━━━━━━━━━━━━\u001b[0m\u001b[37m\u001b[0m \u001b[1m1s\u001b[0m 5ms/step - accuracy: 0.9551 - loss: 0.1402\n",
            "Train Accuracy: 1.00\n",
            "Validation Accuracy: 0.95\n"
          ]
        }
      ]
    },
    {
      "cell_type": "markdown",
      "source": [
        "## Plot"
      ],
      "metadata": {
        "id": "YTgCkxpf3T1A"
      }
    },
    {
      "cell_type": "code",
      "source": [
        "def plot_metrics(history):\n",
        "    plt.figure(figsize=(12, 5))\n",
        "    plt.subplot(1, 2, 1)\n",
        "    plt.plot(history.history['accuracy'], label='Train Accuracy')\n",
        "    plt.plot(history.history['val_accuracy'], label='Validation Accuracy')\n",
        "    plt.xlabel('Epoch')\n",
        "    plt.ylabel('Accuracy')\n",
        "    plt.legend()\n",
        "    plt.title('Accuracy')\n",
        "\n",
        "    plt.subplot(1, 2, 2)\n",
        "    plt.plot(history.history['loss'], label='Train Loss')\n",
        "    plt.plot(history.history['val_loss'], label='Validation Loss')\n",
        "    plt.xlabel('Epoch')\n",
        "    plt.ylabel('Loss')\n",
        "    plt.legend()\n",
        "    plt.title('Loss')\n",
        "\n",
        "    plt.show()\n",
        "\n",
        "plot_metrics(history)"
      ],
      "metadata": {
        "colab": {
          "base_uri": "https://localhost:8080/",
          "height": 487
        },
        "id": "cwn5o9j83VT7",
        "outputId": "4e4b3a7f-d487-4c5a-dedf-f373e29092f2"
      },
      "execution_count": 17,
      "outputs": [
        {
          "output_type": "display_data",
          "data": {
            "text/plain": [
              "<Figure size 1200x500 with 2 Axes>"
            ],
            "image/png": "[encoded data removed]"
          },
          "metadata": {}
        }
      ]
    },
    {
      "cell_type": "markdown",
      "source": [
        "## Save Model"
      ],
      "metadata": {
        "id": "D3tD3ZZw6FZS"
      }
    },
    {
      "cell_type": "markdown",
      "source": [
        "##### new v2"
      ],
      "metadata": {
        "id": "ELsbrc4ybrZ4"
      }
    },
    {
      "cell_type": "code",
      "source": [
        "class ModelSaver:\n",
        "    def __init__(self, model, base_path='saved_models'):\n",
        "        self.model = model\n",
        "        self.base_path = base_path\n",
        "\n",
        "    def save_all_formats(self):\n",
        "        self.save_savedmodel()\n",
        "        self.save_tfjs()\n",
        "        self.save_tflite()\n",
        "\n",
        "    def save_savedmodel(self):\n",
        "        savedmodel_path = os.path.join(self.base_path, 'savedmodel')\n",
        "        tf.saved_model.save(self.model, savedmodel_path)\n",
        "        print(f\"SavedModel format saved to: {savedmodel_path}\")\n",
        "\n",
        "    def save_tfjs(self):\n",
        "        tfjs_path = os.path.join(self.base_path, 'tfjs')\n",
        "        tfjs.converters.save_keras_model(self.model, tfjs_path)\n",
        "        print(f\"TFJS format saved to: {tfjs_path}\")\n",
        "\n",
        "    def save_tflite(self):\n",
        "        tflite_path = os.path.join(self.base_path, 'model.tflite')\n",
        "        converter = tf.lite.TFLiteConverter.from_keras_model(self.model)\n",
        "\n",
        "        tflite_model = converter.convert()\n",
        "        with open(tflite_path, 'wb') as f:\n",
        "            f.write(tflite_model)\n",
        "        print(f\"TF-Lite format saved to: {tflite_path}\")\n",
        "\n",
        "# Usage\n",
        "model_saver = ModelSaver(model=model)"
      ],
      "metadata": {
        "id": "8h1FLqAsbtKw"
      },
      "execution_count": 18,
      "outputs": []
    },
    {
      "cell_type": "markdown",
      "source": [
        "###### Saved Model"
      ],
      "metadata": {
        "id": "bhfl2RULydQ_"
      }
    },
    {
      "cell_type": "code",
      "source": [
        "model_saver.save_savedmodel()"
      ],
      "metadata": {
        "colab": {
          "base_uri": "https://localhost:8080/"
        },
        "id": "rHyRNuW2bz5z",
        "outputId": "bdba8fb7-5c28-451d-cf5d-74b39a97c3f5"
      },
      "execution_count": 19,
      "outputs": [
        {
          "output_type": "stream",
          "name": "stdout",
          "text": [
            "SavedModel format saved to: saved_models/savedmodel\n"
          ]
        }
      ]
    },
    {
      "cell_type": "markdown",
      "source": [
        "###### TFJS"
      ],
      "metadata": {
        "id": "javICBAZyh79"
      }
    },
    {
      "cell_type": "code",
      "source": [
        "model_saver.save_tfjs()"
      ],
      "metadata": {
        "colab": {
          "base_uri": "https://localhost:8080/"
        },
        "id": "I8Suy-64b0ED",
        "outputId": "b1c06966-dda2-43cc-d098-7070b92d64f8"
      },
      "execution_count": 20,
      "outputs": [
        {
          "output_type": "stream",
          "name": "stderr",
          "text": [
            "WARNING:absl:You are saving your model as an HDF5 file via `model.save()` or `keras.saving.save_model(model)`. This file format is considered legacy. We recommend using instead the native Keras format, e.g. `model.save('my_model.keras')` or `keras.saving.save_model(model, 'my_model.keras')`. \n"
          ]
        },
        {
          "output_type": "stream",
          "name": "stdout",
          "text": [
            "failed to lookup keras version from the file,\n",
            "    this is likely a weight only file\n",
            "TFJS format saved to: saved_models/tfjs\n"
          ]
        }
      ]
    },
    {
      "cell_type": "markdown",
      "source": [
        "###### TF-Lite"
      ],
      "metadata": {
        "id": "VYFFQwJz0p6d"
      }
    },
    {
      "cell_type": "code",
      "source": [
        "!pip uninstall -y tensorflow\n",
        "!pip install tensorflow==2.15.0"
      ],
      "metadata": {
        "colab": {
          "base_uri": "https://localhost:8080/",
          "height": 1000
        },
        "id": "v6pnSMuI4-Tj",
        "outputId": "890eef70-02fb-4946-81bc-7c49789ede3e"
      },
      "execution_count": 23,
      "outputs": [
        {
          "output_type": "stream",
          "name": "stdout",
          "text": [
            "Found existing installation: tensorflow 2.16.2\n",
            "Uninstalling tensorflow-2.16.2:\n",
            "  Successfully uninstalled tensorflow-2.16.2\n",
            "Collecting tensorflow==2.15.0\n",
            "  Downloading tensorflow-2.15.0-cp310-cp310-manylinux_2_17_x86_64.manylinux2014_x86_64.whl.metadata (4.4 kB)\n",
            "Requirement already satisfied: absl-py>=1.0.0 in /usr/local/lib/python3.10/dist-packages (from tensorflow==2.15.0) (1.4.0)\n",
            "Requirement already satisfied: astunparse>=1.6.0 in /usr/local/lib/python3.10/dist-packages (from tensorflow==2.15.0) (1.6.3)\n",
            "Requirement already satisfied: flatbuffers>=23.5.26 in /usr/local/lib/python3.10/dist-packages (from tensorflow==2.15.0) (24.3.25)\n",
            "Requirement already satisfied: gast!=0.5.0,!=0.5.1,!=0.5.2,>=0.2.1 in /usr/local/lib/python3.10/dist-packages (from tensorflow==2.15.0) (0.6.0)\n",
            "Requirement already satisfied: google-pasta>=0.1.1 in /usr/local/lib/python3.10/dist-packages (from tensorflow==2.15.0) (0.2.0)\n",
            "Requirement already satisfied: h5py>=2.9.0 in /usr/local/lib/python3.10/dist-packages (from tensorflow==2.15.0) (3.11.0)\n",
            "Requirement already satisfied: libclang>=13.0.0 in /usr/local/lib/python3.10/dist-packages (from tensorflow==2.15.0) (18.1.1)\n",
            "Collecting ml-dtypes~=0.2.0 (from tensorflow==2.15.0)\n",
            "  Downloading ml_dtypes-0.2.0-cp310-cp310-manylinux_2_17_x86_64.manylinux2014_x86_64.whl.metadata (20 kB)\n",
            "Requirement already satisfied: numpy<2.0.0,>=1.23.5 in /usr/local/lib/python3.10/dist-packages (from tensorflow==2.15.0) (1.25.2)\n",
            "Requirement already satisfied: opt-einsum>=2.3.2 in /usr/local/lib/python3.10/dist-packages (from tensorflow==2.15.0) (3.3.0)\n",
            "Requirement already satisfied: packaging in /usr/local/lib/python3.10/dist-packages (from tensorflow==2.15.0) (23.2)\n",
            "Requirement already satisfied: protobuf!=4.21.0,!=4.21.1,!=4.21.2,!=4.21.3,!=4.21.4,!=4.21.5,<5.0.0dev,>=3.20.3 in /usr/local/lib/python3.10/dist-packages (from tensorflow==2.15.0) (3.20.3)\n",
            "Requirement already satisfied: setuptools in /usr/local/lib/python3.10/dist-packages (from tensorflow==2.15.0) (71.0.4)\n",
            "Requirement already satisfied: six>=1.12.0 in /usr/local/lib/python3.10/dist-packages (from tensorflow==2.15.0) (1.16.0)\n",
            "Requirement already satisfied: termcolor>=1.1.0 in /usr/local/lib/python3.10/dist-packages (from tensorflow==2.15.0) (2.4.0)\n",
            "Requirement already satisfied: typing-extensions>=3.6.6 in /usr/local/lib/python3.10/dist-packages (from tensorflow==2.15.0) (4.12.2)\n",
            "Requirement already satisfied: wrapt<1.15,>=1.11.0 in /usr/local/lib/python3.10/dist-packages (from tensorflow==2.15.0) (1.14.1)\n",
            "Requirement already satisfied: tensorflow-io-gcs-filesystem>=0.23.1 in /usr/local/lib/python3.10/dist-packages (from tensorflow==2.15.0) (0.37.1)\n",
            "Requirement already satisfied: grpcio<2.0,>=1.24.3 in /usr/local/lib/python3.10/dist-packages (from tensorflow==2.15.0) (1.65.1)\n",
            "Collecting tensorboard<2.16,>=2.15 (from tensorflow==2.15.0)\n",
            "  Downloading tensorboard-2.15.2-py3-none-any.whl.metadata (1.7 kB)\n",
            "Requirement already satisfied: tensorflow-estimator<2.16,>=2.15.0 in /usr/local/lib/python3.10/dist-packages (from tensorflow==2.15.0) (2.15.0)\n",
            "Collecting keras<2.16,>=2.15.0 (from tensorflow==2.15.0)\n",
            "  Downloading keras-2.15.0-py3-none-any.whl.metadata (2.4 kB)\n",
            "Requirement already satisfied: wheel<1.0,>=0.23.0 in /usr/local/lib/python3.10/dist-packages (from astunparse>=1.6.0->tensorflow==2.15.0) (0.43.0)\n",
            "Requirement already satisfied: google-auth<3,>=1.6.3 in /usr/local/lib/python3.10/dist-packages (from tensorboard<2.16,>=2.15->tensorflow==2.15.0) (2.27.0)\n",
            "Requirement already satisfied: google-auth-oauthlib<2,>=0.5 in /usr/local/lib/python3.10/dist-packages (from tensorboard<2.16,>=2.15->tensorflow==2.15.0) (1.2.1)\n",
            "Requirement already satisfied: markdown>=2.6.8 in /usr/local/lib/python3.10/dist-packages (from tensorboard<2.16,>=2.15->tensorflow==2.15.0) (3.6)\n",
            "Requirement already satisfied: requests<3,>=2.21.0 in /usr/local/lib/python3.10/dist-packages (from tensorboard<2.16,>=2.15->tensorflow==2.15.0) (2.31.0)\n",
            "Requirement already satisfied: tensorboard-data-server<0.8.0,>=0.7.0 in /usr/local/lib/python3.10/dist-packages (from tensorboard<2.16,>=2.15->tensorflow==2.15.0) (0.7.2)\n",
            "Requirement already satisfied: werkzeug>=1.0.1 in /usr/local/lib/python3.10/dist-packages (from tensorboard<2.16,>=2.15->tensorflow==2.15.0) (3.0.3)\n",
            "Requirement already satisfied: cachetools<6.0,>=2.0.0 in /usr/local/lib/python3.10/dist-packages (from google-auth<3,>=1.6.3->tensorboard<2.16,>=2.15->tensorflow==2.15.0) (5.4.0)\n",
            "Requirement already satisfied: pyasn1-modules>=0.2.1 in /usr/local/lib/python3.10/dist-packages (from google-auth<3,>=1.6.3->tensorboard<2.16,>=2.15->tensorflow==2.15.0) (0.4.0)\n",
            "Requirement already satisfied: rsa<5,>=3.1.4 in /usr/local/lib/python3.10/dist-packages (from google-auth<3,>=1.6.3->tensorboard<2.16,>=2.15->tensorflow==2.15.0) (4.9)\n",
            "Requirement already satisfied: requests-oauthlib>=0.7.0 in /usr/local/lib/python3.10/dist-packages (from google-auth-oauthlib<2,>=0.5->tensorboard<2.16,>=2.15->tensorflow==2.15.0) (2.0.0)\n",
            "Requirement already satisfied: charset-normalizer<4,>=2 in /usr/local/lib/python3.10/dist-packages (from requests<3,>=2.21.0->tensorboard<2.16,>=2.15->tensorflow==2.15.0) (3.3.2)\n",
            "Requirement already satisfied: idna<4,>=2.5 in /usr/local/lib/python3.10/dist-packages (from requests<3,>=2.21.0->tensorboard<2.16,>=2.15->tensorflow==2.15.0) (3.7)\n",
            "Requirement already satisfied: urllib3<3,>=1.21.1 in /usr/local/lib/python3.10/dist-packages (from requests<3,>=2.21.0->tensorboard<2.16,>=2.15->tensorflow==2.15.0) (2.0.7)\n",
            "Requirement already satisfied: certifi>=2017.4.17 in /usr/local/lib/python3.10/dist-packages (from requests<3,>=2.21.0->tensorboard<2.16,>=2.15->tensorflow==2.15.0) (2024.7.4)\n",
            "Requirement already satisfied: MarkupSafe>=2.1.1 in /usr/local/lib/python3.10/dist-packages (from werkzeug>=1.0.1->tensorboard<2.16,>=2.15->tensorflow==2.15.0) (2.1.5)\n",
            "Requirement already satisfied: pyasn1<0.7.0,>=0.4.6 in /usr/local/lib/python3.10/dist-packages (from pyasn1-modules>=0.2.1->google-auth<3,>=1.6.3->tensorboard<2.16,>=2.15->tensorflow==2.15.0) (0.6.0)\n",
            "Requirement already satisfied: oauthlib>=3.0.0 in /usr/local/lib/python3.10/dist-packages (from requests-oauthlib>=0.7.0->google-auth-oauthlib<2,>=0.5->tensorboard<2.16,>=2.15->tensorflow==2.15.0) (3.2.2)\n",
            "Downloading tensorflow-2.15.0-cp310-cp310-manylinux_2_17_x86_64.manylinux2014_x86_64.whl (475.2 MB)\n",
            "\u001b[2K   \u001b[90m━━━━━━━━━━━━━━━━━━━━━━━━━━━━━━━━━━━━━━━━\u001b[0m \u001b[32m475.2/475.2 MB\u001b[0m \u001b[31m1.0 MB/s\u001b[0m eta \u001b[36m0:00:00\u001b[0m\n",
            "\u001b[?25hDownloading keras-2.15.0-py3-none-any.whl (1.7 MB)\n",
            "\u001b[2K   \u001b[90m━━━━━━━━━━━━━━━━━━━━━━━━━━━━━━━━━━━━━━━━\u001b[0m \u001b[32m1.7/1.7 MB\u001b[0m \u001b[31m661.2 kB/s\u001b[0m eta \u001b[36m0:00:00\u001b[0m\n",
            "\u001b[?25hDownloading ml_dtypes-0.2.0-cp310-cp310-manylinux_2_17_x86_64.manylinux2014_x86_64.whl (1.0 MB)\n",
            "\u001b[2K   \u001b[90m━━━━━━━━━━━━━━━━━━━━━━━━━━━━━━━━━━━━━━━━\u001b[0m \u001b[32m1.0/1.0 MB\u001b[0m \u001b[31m38.0 MB/s\u001b[0m eta \u001b[36m0:00:00\u001b[0m\n",
            "\u001b[?25hDownloading tensorboard-2.15.2-py3-none-any.whl (5.5 MB)\n",
            "\u001b[2K   \u001b[90m━━━━━━━━━━━━━━━━━━━━━━━━━━━━━━━━━━━━━━━━\u001b[0m \u001b[32m5.5/5.5 MB\u001b[0m \u001b[31m70.7 MB/s\u001b[0m eta \u001b[36m0:00:00\u001b[0m\n",
            "\u001b[?25hInstalling collected packages: ml-dtypes, keras, tensorboard, tensorflow\n",
            "  Attempting uninstall: ml-dtypes\n",
            "    Found existing installation: ml-dtypes 0.3.2\n",
            "    Uninstalling ml-dtypes-0.3.2:\n",
            "      Successfully uninstalled ml-dtypes-0.3.2\n",
            "  Attempting uninstall: keras\n",
            "    Found existing installation: keras 3.4.1\n",
            "    Uninstalling keras-3.4.1:\n",
            "      Successfully uninstalled keras-3.4.1\n",
            "  Attempting uninstall: tensorboard\n",
            "    Found existing installation: tensorboard 2.16.2\n",
            "    Uninstalling tensorboard-2.16.2:\n",
            "      Successfully uninstalled tensorboard-2.16.2\n",
            "\u001b[31mERROR: pip's dependency resolver does not currently take into account all the packages that are installed. This behaviour is the source of the following dependency conflicts.\n",
            "tensorflow-decision-forests 1.9.2 requires tensorflow==2.16.2, but you have tensorflow 2.15.0 which is incompatible.\n",
            "tf-keras 2.16.0 requires tensorflow<2.17,>=2.16, but you have tensorflow 2.15.0 which is incompatible.\u001b[0m\u001b[31m\n",
            "\u001b[0mSuccessfully installed keras-2.15.0 ml-dtypes-0.2.0 tensorboard-2.15.2 tensorflow-2.15.0\n"
          ]
        },
        {
          "output_type": "display_data",
          "data": {
            "application/vnd.colab-display-data+json": {
              "pip_warning": {
                "packages": [
                  "keras",
                  "ml_dtypes",
                  "tensorflow"
                ]
              },
              "id": "638f81084c5c414881f5e37ae39fc40d"
            }
          },
          "metadata": {}
        }
      ]
    },
    {
      "cell_type": "code",
      "source": [
        "import tensorflow as tf\n",
        "print(tf.__version__)"
      ],
      "metadata": {
        "colab": {
          "base_uri": "https://localhost:8080/"
        },
        "id": "ZIrBxukZ5dK_",
        "outputId": "387b7a9c-35e4-40af-af8f-5766a500abfb"
      },
      "execution_count": 44,
      "outputs": [
        {
          "output_type": "stream",
          "name": "stdout",
          "text": [
            "2.15.0\n"
          ]
        }
      ]
    },
    {
      "cell_type": "code",
      "source": [
        "saved_model_path = '/content/saved_models/savedmodel'\n",
        "tflite_model_path = '/content/saved_models/tflite_model/model_2.tflite'\n",
        "\n",
        "model = tf.keras.models.load_model(saved_model_path, compile=False)\n",
        "\n",
        "converter = tf.lite.TFLiteConverter.from_keras_model(model)\n",
        "tflite_model = converter.convert()\n",
        "\n",
        "os.makedirs(os.path.dirname(tflite_model_path), exist_ok=True)\n",
        "with open(tflite_model_path, 'wb') as f:\n",
        "    f.write(tflite_model)\n",
        "\n",
        "print(f\"TensorFlow Lite model saved to: {tflite_model_path}\")"
      ],
      "metadata": {
        "colab": {
          "base_uri": "https://localhost:8080/"
        },
        "id": "5o1iGNQlE24P",
        "outputId": "8b1e04c2-4c12-4d2b-c125-992e46e9fd12"
      },
      "execution_count": 45,
      "outputs": [
        {
          "output_type": "stream",
          "name": "stderr",
          "text": [
            "WARNING:tensorflow:SavedModel saved prior to TF 2.5 detected when loading Keras model. Please ensure that you are saving the model with model.save() or tf.keras.models.save_model(), *NOT* tf.saved_model.save(). To confirm, there should be a file named \"keras_metadata.pb\" in the SavedModel directory.\n"
          ]
        },
        {
          "output_type": "stream",
          "name": "stdout",
          "text": [
            "TensorFlow Lite model saved to: /content/saved_models/tflite_model/model_2.tflite\n"
          ]
        }
      ]
    },
    {
      "cell_type": "markdown",
      "source": [
        "## Inverence"
      ],
      "metadata": {
        "id": "xjgvHX172fKn"
      }
    },
    {
      "cell_type": "code",
      "source": [
        "import numpy as np\n",
        "from PIL import Image\n",
        "import matplotlib.pyplot as plt"
      ],
      "metadata": {
        "id": "_hITrv2KGK4r"
      },
      "execution_count": 47,
      "outputs": []
    },
    {
      "cell_type": "code",
      "source": [
        "class ImageClassifier:\n",
        "    def __init__(self, model_path, label_file_path):\n",
        "        self.model_path = model_path\n",
        "        self.label_file_path = label_file_path\n",
        "        self.load_model()\n",
        "        self.load_labels()\n",
        "\n",
        "    def load_model(self):\n",
        "        self.interpreter = tf.lite.Interpreter(model_path=self.model_path)\n",
        "        self.interpreter.allocate_tensors()\n",
        "\n",
        "    def load_labels(self):\n",
        "        with open(self.label_file_path, 'r') as f:\n",
        "            self.labels = [line.strip() for line in f.readlines()]\n",
        "\n",
        "    def preprocess_image(self, img_path):\n",
        "        img = tf.keras.preprocessing.image.load_img(img_path, target_size=(32, 32))\n",
        "        img_array = tf.keras.preprocessing.image.img_to_array(img)\n",
        "        img_array = np.expand_dims(img_array, axis=0)\n",
        "        img_array = img_array / 255.0  # Normalize\n",
        "        return img_array\n",
        "\n",
        "    def display_image(self, img_path):\n",
        "        img = Image.open(img_path)\n",
        "        plt.imshow(img)\n",
        "        plt.axis('off')\n",
        "        plt.show()\n",
        "\n",
        "    def predict_image(self, img_path):\n",
        "        img_array = self.preprocess_image(img_path)\n",
        "        self.interpreter.set_tensor(self.interpreter.get_input_details()[0]['index'], img_array)\n",
        "        self.interpreter.invoke()\n",
        "        output_data = self.interpreter.get_tensor(self.interpreter.get_output_details()[0]['index'])\n",
        "        predicted_class_index = np.argmax(output_data[0])\n",
        "        return self.labels[predicted_class_index]\n",
        "\n",
        "model_path = '/content/saved_models/tflite_model/model.tflite'\n",
        "label_file_path = '/content/saved_models/tflite_model/label.txt'"
      ],
      "metadata": {
        "id": "kNz3jrTPCDTV"
      },
      "execution_count": 70,
      "outputs": []
    },
    {
      "cell_type": "code",
      "source": [
        "image_path = '/content/id_232_label_1.png'\n",
        "\n",
        "classifier = ImageClassifier(model_path, label_file_path)\n",
        "classifier.display_image(image_path)\n",
        "predicted_label = classifier.predict_image(image_path)\n",
        "print(f\"Predicted label: {predicted_label}\")"
      ],
      "metadata": {
        "colab": {
          "base_uri": "https://localhost:8080/",
          "height": 423
        },
        "id": "D0gqZ4qyF11Z",
        "outputId": "47defc97-5db7-4fda-c783-a5097f4256a2"
      },
      "execution_count": 97,
      "outputs": [
        {
          "output_type": "display_data",
          "data": {
            "text/plain": [
              "<Figure size 640x480 with 1 Axes>"
            ],
            "image/png": "[encoded data removed]"
          },
          "metadata": {}
        },
        {
          "output_type": "stream",
          "name": "stdout",
          "text": [
            "Predicted label: Alef (أ)\n"
          ]
        }
      ]
    },
    {
      "cell_type": "code",
      "source": [
        "image_path = '/content/id_143_label_18.png'\n",
        "\n",
        "classifier = ImageClassifier(model_path, label_file_path)\n",
        "classifier.display_image(image_path)\n",
        "predicted_label = classifier.predict_image(image_path)\n",
        "print(f\"Predicted label: {predicted_label}\")"
      ],
      "metadata": {
        "colab": {
          "base_uri": "https://localhost:8080/",
          "height": 423
        },
        "id": "5Xt1sKSbIgiK",
        "outputId": "92c42473-6e34-492c-e849-380ab2c91bfa"
      },
      "execution_count": 68,
      "outputs": [
        {
          "output_type": "display_data",
          "data": {
            "text/plain": [
              "<Figure size 640x480 with 1 Axes>"
            ],
            "image/png": "[encoded data removed]"
          },
          "metadata": {}
        },
        {
          "output_type": "stream",
          "name": "stdout",
          "text": [
            "Predicted label: Ain (ع)\n"
          ]
        }
      ]
    },
    {
      "cell_type": "code",
      "source": [
        "image_path = '/content/id_155_label_20.png'\n",
        "\n",
        "classifier = ImageClassifier(model_path, label_file_path)\n",
        "classifier.display_image(image_path)\n",
        "predicted_label = classifier.predict_image(image_path)\n",
        "print(f\"Predicted label: {predicted_label}\")"
      ],
      "metadata": {
        "colab": {
          "base_uri": "https://localhost:8080/",
          "height": 423
        },
        "id": "9ob3erDEI7Wi",
        "outputId": "171b737c-e271-4947-b8fc-df9418664682"
      },
      "execution_count": 92,
      "outputs": [
        {
          "output_type": "display_data",
          "data": {
            "text/plain": [
              "<Figure size 640x480 with 1 Axes>"
            ],
            "image/png": "[encoded data removed]"
          },
          "metadata": {}
        },
        {
          "output_type": "stream",
          "name": "stdout",
          "text": [
            "Predicted label: Qaf (ق)\n"
          ]
        }
      ]
    },
    {
      "cell_type": "code",
      "source": [
        "image_path = '/content/id_9_label_2.png'\n",
        "\n",
        "classifier = ImageClassifier(model_path, label_file_path)\n",
        "classifier.display_image(image_path)\n",
        "predicted_label = classifier.predict_image(image_path)\n",
        "print(f\"Predicted label: {predicted_label}\")"
      ],
      "metadata": {
        "colab": {
          "base_uri": "https://localhost:8080/",
          "height": 423
        },
        "id": "7nZEnCfNJW8k",
        "outputId": "7b6e4d49-476a-4173-8c4b-d125d94b3db9"
      },
      "execution_count": 76,
      "outputs": [
        {
          "output_type": "display_data",
          "data": {
            "text/plain": [
              "<Figure size 640x480 with 1 Axes>"
            ],
            "image/png": "[encoded data removed]"
          },
          "metadata": {}
        },
        {
          "output_type": "stream",
          "name": "stdout",
          "text": [
            "Predicted label: Bah (ب)\n"
          ]
        }
      ]
    },
    {
      "cell_type": "code",
      "source": [
        "image_path = '/content/id_16_label_2.png'\n",
        "\n",
        "classifier = ImageClassifier(model_path, label_file_path)\n",
        "classifier.display_image(image_path)\n",
        "predicted_label = classifier.predict_image(image_path)\n",
        "print(f\"Predicted label: {predicted_label}\")"
      ],
      "metadata": {
        "colab": {
          "base_uri": "https://localhost:8080/",
          "height": 423
        },
        "id": "NATpDyXyKF8f",
        "outputId": "b419d66f-248b-4647-9252-77a27736f034"
      },
      "execution_count": 98,
      "outputs": [
        {
          "output_type": "display_data",
          "data": {
            "text/plain": [
              "<Figure size 640x480 with 1 Axes>"
            ],
            "image/png": "[encoded data removed]"
          },
          "metadata": {}
        },
        {
          "output_type": "stream",
          "name": "stdout",
          "text": [
            "Predicted label: Bah (ب)\n"
          ]
        }
      ]
    },
    {
      "cell_type": "code",
      "source": [
        "image_path = '/content/arabic_handwritten_chars_image_all_13440_32x32/Qaf (ق)/id_10017_label_21.png'\n",
        "\n",
        "classifier = ImageClassifier(model_path, label_file_path)\n",
        "classifier.display_image(image_path)\n",
        "predicted_label = classifier.predict_image(image_path)\n",
        "print(f\"Predicted label: {predicted_label}\")"
      ],
      "metadata": {
        "colab": {
          "base_uri": "https://localhost:8080/",
          "height": 423
        },
        "id": "svrbdSNVKT-o",
        "outputId": "b3b07c23-5ecd-4e03-8998-fdc4052fca5f"
      },
      "execution_count": 89,
      "outputs": [
        {
          "output_type": "display_data",
          "data": {
            "text/plain": [
              "<Figure size 640x480 with 1 Axes>"
            ],
            "image/png": "[encoded data removed]"
          },
          "metadata": {}
        },
        {
          "output_type": "stream",
          "name": "stdout",
          "text": [
            "Predicted label: Qaf (ق)\n"
          ]
        }
      ]
    },
    {
      "cell_type": "code",
      "source": [],
      "metadata": {
        "id": "TI7XrxRWM0sh"
      },
      "execution_count": null,
      "outputs": []
    }
  ]
}