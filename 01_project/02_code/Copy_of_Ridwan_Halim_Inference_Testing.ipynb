{
  "nbformat": 4,
  "nbformat_minor": 0,
  "metadata": {
    "colab": {
      "provenance": []
    },
    "kernelspec": {
      "name": "python3",
      "display_name": "Python 3"
    },
    "language_info": {
      "name": "python"
    }
  },
  "cells": [
    {
      "cell_type": "markdown",
      "source": [
        "# Ridwan Halim"
      ],
      "metadata": {
        "id": "5urZLyf4g9Jj"
      }
    },
    {
      "cell_type": "markdown",
      "source": [
        "# Import"
      ],
      "metadata": {
        "id": "M4e209f4b_uj"
      }
    },
    {
      "cell_type": "code",
      "source": [
        "import numpy as np\n",
        "import joblib\n",
        "from gensim.models import Word2Vec"
      ],
      "metadata": {
        "id": "qkFL9zRVU_LM"
      },
      "execution_count": 1,
      "outputs": []
    },
    {
      "cell_type": "markdown",
      "source": [
        "# Download model from my github: [ridwaanhall](https://github.com/ridwaanhall/Dicoding-Machine-Learning-Intermediate/tree/main/01_project/03_model)"
      ],
      "metadata": {
        "id": "4jv0-6szcCUc"
      }
    },
    {
      "cell_type": "code",
      "source": [
        "!wget -O randomforest_word2vec_model_new.joblib https://github.com/ridwaanhall/Dicoding-Machine-Learning-Intermediate/raw/main/01_project/03_model/randomforest_word2vec_model_new.joblib\n",
        "!wget -O word2vec_model_new.joblib https://github.com/ridwaanhall/Dicoding-Machine-Learning-Intermediate/raw/main/01_project/03_model/word2vec_model_new.joblib\n",
        "!wget -O label_encoder_new.joblib https://github.com/ridwaanhall/Dicoding-Machine-Learning-Intermediate/raw/main/01_project/03_model/label_encoder_new.joblib"
      ],
      "metadata": {
        "colab": {
          "base_uri": "https://localhost:8080/"
        },
        "id": "GvorZkjubtZu",
        "outputId": "3164d160-b574-4ea8-9870-003f9d278bec"
      },
      "execution_count": 3,
      "outputs": [
        {
          "output_type": "stream",
          "name": "stdout",
          "text": [
            "--2024-07-21 16:15:13--  https://github.com/ridwaanhall/Dicoding-Machine-Learning-Intermediate/raw/main/01_project/03_model/randomforest_word2vec_model_new.joblib\n",
            "Resolving github.com (github.com)... 140.82.114.4\n",
            "Connecting to github.com (github.com)|140.82.114.4|:443... connected.\n",
            "HTTP request sent, awaiting response... 302 Found\n",
            "Location: https://raw.githubusercontent.com/ridwaanhall/Dicoding-Machine-Learning-Intermediate/main/01_project/03_model/randomforest_word2vec_model_new.joblib [following]\n",
            "--2024-07-21 16:15:13--  https://raw.githubusercontent.com/ridwaanhall/Dicoding-Machine-Learning-Intermediate/main/01_project/03_model/randomforest_word2vec_model_new.joblib\n",
            "Resolving raw.githubusercontent.com (raw.githubusercontent.com)... 185.199.108.133, 185.199.109.133, 185.199.110.133, ...\n",
            "Connecting to raw.githubusercontent.com (raw.githubusercontent.com)|185.199.108.133|:443... connected.\n",
            "HTTP request sent, awaiting response... 200 OK\n",
            "Length: 19428417 (19M) [application/octet-stream]\n",
            "Saving to: ‘randomforest_word2vec_model_new.joblib’\n",
            "\n",
            "randomforest_word2v 100%[===================>]  18.53M   103MB/s    in 0.2s    \n",
            "\n",
            "2024-07-21 16:15:14 (103 MB/s) - ‘randomforest_word2vec_model_new.joblib’ saved [19428417/19428417]\n",
            "\n",
            "--2024-07-21 16:15:14--  https://github.com/ridwaanhall/Dicoding-Machine-Learning-Intermediate/raw/main/01_project/03_model/word2vec_model_new.joblib\n",
            "Resolving github.com (github.com)... 140.82.113.4\n",
            "Connecting to github.com (github.com)|140.82.113.4|:443... connected.\n",
            "HTTP request sent, awaiting response... 302 Found\n",
            "Location: https://raw.githubusercontent.com/ridwaanhall/Dicoding-Machine-Learning-Intermediate/main/01_project/03_model/word2vec_model_new.joblib [following]\n",
            "--2024-07-21 16:15:14--  https://raw.githubusercontent.com/ridwaanhall/Dicoding-Machine-Learning-Intermediate/main/01_project/03_model/word2vec_model_new.joblib\n",
            "Resolving raw.githubusercontent.com (raw.githubusercontent.com)... 185.199.109.133, 185.199.110.133, 185.199.108.133, ...\n",
            "Connecting to raw.githubusercontent.com (raw.githubusercontent.com)|185.199.109.133|:443... connected.\n",
            "HTTP request sent, awaiting response... 200 OK\n",
            "Length: 14772499 (14M) [application/octet-stream]\n",
            "Saving to: ‘word2vec_model_new.joblib’\n",
            "\n",
            "word2vec_model_new. 100%[===================>]  14.09M  90.8MB/s    in 0.2s    \n",
            "\n",
            "2024-07-21 16:15:14 (90.8 MB/s) - ‘word2vec_model_new.joblib’ saved [14772499/14772499]\n",
            "\n",
            "--2024-07-21 16:15:14--  https://github.com/ridwaanhall/Dicoding-Machine-Learning-Intermediate/raw/main/01_project/03_model/label_encoder_new.joblib\n",
            "Resolving github.com (github.com)... 140.82.114.4\n",
            "Connecting to github.com (github.com)|140.82.114.4|:443... connected.\n",
            "HTTP request sent, awaiting response... 302 Found\n",
            "Location: https://raw.githubusercontent.com/ridwaanhall/Dicoding-Machine-Learning-Intermediate/main/01_project/03_model/label_encoder_new.joblib [following]\n",
            "--2024-07-21 16:15:14--  https://raw.githubusercontent.com/ridwaanhall/Dicoding-Machine-Learning-Intermediate/main/01_project/03_model/label_encoder_new.joblib\n",
            "Resolving raw.githubusercontent.com (raw.githubusercontent.com)... 185.199.108.133, 185.199.109.133, 185.199.110.133, ...\n",
            "Connecting to raw.githubusercontent.com (raw.githubusercontent.com)|185.199.108.133|:443... connected.\n",
            "HTTP request sent, awaiting response... 200 OK\n",
            "Length: 559 [application/octet-stream]\n",
            "Saving to: ‘label_encoder_new.joblib’\n",
            "\n",
            "label_encoder_new.j 100%[===================>]     559  --.-KB/s    in 0s      \n",
            "\n",
            "2024-07-21 16:15:15 (34.1 MB/s) - ‘label_encoder_new.joblib’ saved [559/559]\n",
            "\n"
          ]
        }
      ]
    },
    {
      "cell_type": "markdown",
      "source": [
        "# SentimentAnalyzer"
      ],
      "metadata": {
        "id": "Pw_hzk2vcISp"
      }
    },
    {
      "cell_type": "code",
      "execution_count": 4,
      "metadata": {
        "id": "djxFvislUWVe"
      },
      "outputs": [],
      "source": [
        "class SentimentAnalyzer:\n",
        "    def __init__(self, model_path, word2vec_path, label_encoder_path):\n",
        "        self.model = joblib.load(model_path)\n",
        "        self.word2vec_model = joblib.load(word2vec_path)\n",
        "        self.label_encoder = joblib.load(label_encoder_path)\n",
        "\n",
        "    def vectorize(self, text):\n",
        "        \"\"\"Vectorize text using Word2Vec.\"\"\"\n",
        "        vectors = [self.word2vec_model.wv[word] for word in text.split() if word in self.word2vec_model.wv]\n",
        "        if len(vectors) == 0:\n",
        "            return np.zeros(self.word2vec_model.vector_size)\n",
        "        return np.mean(vectors, axis=0)\n",
        "\n",
        "    def predict_proba(self, text):\n",
        "        \"\"\"Predict the sentiment probabilities for the input text.\"\"\"\n",
        "        input_vector = self.vectorize(text).reshape(1, -1)  # Reshape for the model\n",
        "        probabilities = self.model.predict_proba(input_vector)[0]\n",
        "        return probabilities\n",
        "\n",
        "    def get_percentage_predictions(self, text):\n",
        "        \"\"\"Get sentiment predictions with percentages.\"\"\"\n",
        "        probabilities = self.predict_proba(text)\n",
        "        class_labels = self.label_encoder.classes_\n",
        "        percentages = {label: prob * 100 for label, prob in zip(class_labels, probabilities)}\n",
        "        return percentages\n",
        "\n",
        "    def print_predictions(self, text):\n",
        "        \"\"\"Print sentiment predictions sorted from highest to lowest.\"\"\"\n",
        "        percentages = self.get_percentage_predictions(text)\n",
        "        # Sort\n",
        "        sorted_percentages = dict(sorted(percentages.items(), key=lambda item: item[1], reverse=True))\n",
        "\n",
        "        # Determine the predicted class\n",
        "        predicted_class = max(sorted_percentages, key=sorted_percentages.get)\n",
        "\n",
        "        print(f\"Your text: {text}\")\n",
        "        print(f\"Predict: {predicted_class.capitalize()}\")\n",
        "        print(\"\\nDetail:\")\n",
        "        for label, percentage in sorted_percentages.items():\n",
        "            print(f\"{label.capitalize()}: {percentage:.5f}%\")\n",
        "\n",
        "model_path = 'randomforest_word2vec_model_new.joblib'\n",
        "word2vec_path = 'word2vec_model_new.joblib'\n",
        "label_encoder_path = 'label_encoder_new.joblib'\n",
        "\n",
        "analyzer = SentimentAnalyzer(model_path, word2vec_path, label_encoder_path)"
      ]
    },
    {
      "cell_type": "markdown",
      "source": [
        "# Test"
      ],
      "metadata": {
        "id": "qg2SNsWtcNgN"
      }
    },
    {
      "cell_type": "markdown",
      "source": [
        "## Negative"
      ],
      "metadata": {
        "id": "mMsO_RDmdLIP"
      }
    },
    {
      "cell_type": "code",
      "source": [
        "input_text = \"harga barangnya mahal mahal\"\n",
        "analyzer.print_predictions(input_text)"
      ],
      "metadata": {
        "colab": {
          "base_uri": "https://localhost:8080/"
        },
        "id": "6GGE_pQcb8_s",
        "outputId": "afe4bab4-a5f4-41cc-e749-a98459a5f475"
      },
      "execution_count": 5,
      "outputs": [
        {
          "output_type": "stream",
          "name": "stdout",
          "text": [
            "Your text: harga barangnya mahal mahal\n",
            "Predict: Negatif\n",
            "\n",
            "Detail:\n",
            "Negatif: 52.00000%\n",
            "Positif: 37.00000%\n",
            "Netral: 11.00000%\n"
          ]
        }
      ]
    },
    {
      "cell_type": "code",
      "source": [
        "input_text = \"Pengalaman belanja di Tokopedia kurang memuaskan. Barang yang saya pesan tidak sesuai dengan deskripsi. Pelayanan pelanggan juga lambat dalam merespons keluhan.\"\n",
        "analyzer.print_predictions(input_text)"
      ],
      "metadata": {
        "colab": {
          "base_uri": "https://localhost:8080/"
        },
        "id": "P_52LXWOd4Oy",
        "outputId": "d34f145d-e599-458f-89e3-53bb77774c6d"
      },
      "execution_count": 6,
      "outputs": [
        {
          "output_type": "stream",
          "name": "stdout",
          "text": [
            "Your text: Pengalaman belanja di Tokopedia kurang memuaskan. Barang yang saya pesan tidak sesuai dengan deskripsi. Pelayanan pelanggan juga lambat dalam merespons keluhan.\n",
            "Predict: Negatif\n",
            "\n",
            "Detail:\n",
            "Negatif: 54.00000%\n",
            "Positif: 43.00000%\n",
            "Netral: 3.00000%\n"
          ]
        }
      ]
    },
    {
      "cell_type": "markdown",
      "source": [
        "## Positve"
      ],
      "metadata": {
        "id": "yKuVK6LkdaD_"
      }
    },
    {
      "cell_type": "code",
      "source": [
        "input_text = \"harga barangnya murah murah\"\n",
        "analyzer.print_predictions(input_text)"
      ],
      "metadata": {
        "colab": {
          "base_uri": "https://localhost:8080/"
        },
        "id": "j0ax7weTce7b",
        "outputId": "96ef8835-bb00-44c8-a58e-1997f2c87965"
      },
      "execution_count": 7,
      "outputs": [
        {
          "output_type": "stream",
          "name": "stdout",
          "text": [
            "Your text: harga barangnya murah murah\n",
            "Predict: Positif\n",
            "\n",
            "Detail:\n",
            "Positif: 54.00000%\n",
            "Negatif: 37.00000%\n",
            "Netral: 9.00000%\n"
          ]
        }
      ]
    },
    {
      "cell_type": "code",
      "source": [
        "input_text = \"Aplikasi Tokopedia sangat mudah digunakan dan selalu memberikan promo menarik! Pengalaman belanja jadi lebih menyenangkan dan hemat. Pengiriman cepat dan customer service juga sangat responsif. Terima kasih, Tokopedia!\"\n",
        "analyzer.print_predictions(input_text)"
      ],
      "metadata": {
        "colab": {
          "base_uri": "https://localhost:8080/"
        },
        "id": "-7Z119raeLlp",
        "outputId": "f6d7964b-6b95-44d9-896c-90de11c9ad73"
      },
      "execution_count": 8,
      "outputs": [
        {
          "output_type": "stream",
          "name": "stdout",
          "text": [
            "Your text: Aplikasi Tokopedia sangat mudah digunakan dan selalu memberikan promo menarik! Pengalaman belanja jadi lebih menyenangkan dan hemat. Pengiriman cepat dan customer service juga sangat responsif. Terima kasih, Tokopedia!\n",
            "Predict: Positif\n",
            "\n",
            "Detail:\n",
            "Positif: 99.00000%\n",
            "Negatif: 1.00000%\n",
            "Netral: 0.00000%\n"
          ]
        }
      ]
    },
    {
      "cell_type": "markdown",
      "source": [
        "## Neutral"
      ],
      "metadata": {
        "id": "NxJvDFBVd0sM"
      }
    },
    {
      "cell_type": "code",
      "source": [
        "input_text = \"apakah tokopedia punya fitur dark mode?\"\n",
        "analyzer.print_predictions(input_text)"
      ],
      "metadata": {
        "colab": {
          "base_uri": "https://localhost:8080/"
        },
        "id": "zDtM0S1XchP9",
        "outputId": "f6ed5266-fc71-4d4b-ff80-0353fdf0db7e"
      },
      "execution_count": 22,
      "outputs": [
        {
          "output_type": "stream",
          "name": "stdout",
          "text": [
            "Your text: apakah tokopedia punya fitur dark mode?\n",
            "Predict: Netral\n",
            "\n",
            "Detail:\n",
            "Netral: 39.00000%\n",
            "Negatif: 33.00000%\n",
            "Positif: 28.00000%\n"
          ]
        }
      ]
    },
    {
      "cell_type": "markdown",
      "source": [
        "## boleh dicoba lho kakak kakak reviewer :) tinggal run run masukin text. tapi terkadang masih kgak akurat"
      ],
      "metadata": {
        "id": "lCyvL-OLgnog"
      }
    },
    {
      "cell_type": "code",
      "source": [],
      "metadata": {
        "id": "G8BcysfUfJ7M"
      },
      "execution_count": null,
      "outputs": []
    }
  ]
}